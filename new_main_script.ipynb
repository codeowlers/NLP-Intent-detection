{
 "cells": [
  {
   "cell_type": "code",
   "execution_count": 1,
   "metadata": {},
   "outputs": [],
   "source": [
    "import pandas as pd\n",
    "import numpy as np\n",
    "from pathlib import Path\n",
    "import librosa\n",
    "from sklearn.ensemble import RandomForestClassifier\n",
    "from sklearn.model_selection import cross_val_score\n",
    "from sklearn.utils import shuffle\n",
    "from algorithms import label_encode_columns, svm_model, accuracy_calculator, random_forest_model, array_column_spread, one_hot_encode_columns\n",
    "from sklearn.model_selection import train_test_split\n",
    "from sklearn.svm import SVC\n",
    "from sklearn.ensemble import RandomForestClassifier\n",
    "from sklearn.preprocessing import OneHotEncoder\n",
    "from sklearn.preprocessing import LabelEncoder"
   ]
  },
  {
   "cell_type": "code",
   "execution_count": 2,
   "metadata": {},
   "outputs": [],
   "source": [
    "df = pd.read_csv(\"dsl_data/development.csv\")\n",
    "df_eval = pd.read_csv(\"dsl_data/evaluation.csv\")"
   ]
  },
  {
   "cell_type": "code",
   "execution_count": 3,
   "metadata": {},
   "outputs": [],
   "source": [
    "df['intent'] = df['action']+ df['object']"
   ]
  },
  {
   "cell_type": "code",
   "execution_count": 4,
   "metadata": {},
   "outputs": [],
   "source": [
    "# y encoded done\n",
    "dict = {}\n",
    "\n",
    "for i, el in enumerate(df['intent'].unique()):\n",
    "    dict[el] = i\n",
    "\n",
    "df['intent'] = df['intent'].apply(lambda x: dict[x])"
   ]
  },
  {
   "cell_type": "code",
   "execution_count": null,
   "metadata": {},
   "outputs": [],
   "source": [
    "columns = [\"Self-reported fluency level \",\"First Language spoken\", \"Current language used for work/school\", \"gender\"]\n",
    "\n",
    "for column in columns:\n",
    "    encoder = OneHotEncoder()\n",
    "    encoded_data = encoder.fit_transform(df[[column]])\n",
    "    feature_names = encoder.get_feature_names_out([column])\n",
    "    encoded_df = pd.DataFrame(encoded_data.toarray(), columns=feature_names)\n",
    "    df.drop(column, axis=1, inplace=True)\n",
    "    df = pd.concat([df, encoded_df], axis=1)"
   ]
  },
  {
   "cell_type": "code",
   "execution_count": null,
   "metadata": {},
   "outputs": [],
   "source": [
    "for column in columns:\n",
    "    encoder = OneHotEncoder()\n",
    "    encoded_data = encoder.fit_transform(df_eval[[column]])\n",
    "    feature_names = encoder.get_feature_names_out([column])\n",
    "    encoded_df = pd.DataFrame(encoded_data.toarray(), columns=feature_names)\n",
    "    df_eval.drop(column, axis=1, inplace=True)\n",
    "    df_eval = pd.concat([df_eval, encoded_df], axis=1)"
   ]
  },
  {
   "cell_type": "code",
   "execution_count": null,
   "metadata": {},
   "outputs": [],
   "source": [
    "le = LabelEncoder()\n",
    "label = le.fit_transform(df['ageRange'])\n",
    "df.drop('ageRange', axis=1, inplace=True)\n",
    "df['ageRange'] = label"
   ]
  },
  {
   "cell_type": "code",
   "execution_count": null,
   "metadata": {},
   "outputs": [],
   "source": [
    "le = LabelEncoder()\n",
    "label = le.fit_transform(df_eval['ageRange'])\n",
    "df_eval.drop('ageRange', axis=1, inplace=True)\n",
    "df_eval['ageRange'] = label"
   ]
  },
  {
   "cell_type": "code",
   "execution_count": null,
   "metadata": {},
   "outputs": [],
   "source": [
    "\n",
    "audio_feature_extraction(df)\n",
    "audio_feature_extraction(df_eval)"
   ]
  },
  {
   "cell_type": "code",
   "execution_count": null,
   "metadata": {},
   "outputs": [],
   "source": [
    "from scipy.stats import skew, kurtosis\n",
    "\n",
    "def time_domain(df, column):\n",
    "    df[f'{column}_mean'] = df[column].apply(lambda x: np.mean(x,axis=1))\n",
    "    df[f'{column}_min'] = df[column].apply(lambda x: np.min(x,axis=1))\n",
    "    df[f'{column}_max'] = df[column].apply(lambda x: np.max(x,axis=1))\n",
    "    df[f'{column}_skew'] = df[column].apply(lambda x: skew(x,axis=1))\n",
    "    df[f'{column}_kurtosis'] = df[column].apply(lambda x: kurtosis(x,axis=1))\n",
    "    df[f'{column}_std'] = df[column].apply(lambda x: np.std(x,axis=1))"
   ]
  },
  {
   "cell_type": "code",
   "execution_count": null,
   "metadata": {},
   "outputs": [],
   "source": []
  },
  {
   "cell_type": "code",
   "execution_count": null,
   "metadata": {},
   "outputs": [],
   "source": []
  },
  {
   "cell_type": "code",
   "execution_count": null,
   "metadata": {},
   "outputs": [],
   "source": [
    "\n"
   ]
  },
  {
   "cell_type": "code",
   "execution_count": null,
   "metadata": {},
   "outputs": [],
   "source": []
  },
  {
   "cell_type": "code",
   "execution_count": null,
   "metadata": {},
   "outputs": [],
   "source": [
    "# down to 4 features\n",
    "  \n"
   ]
  },
  {
   "cell_type": "code",
   "execution_count": null,
   "metadata": {},
   "outputs": [],
   "source": []
  },
  {
   "cell_type": "code",
   "execution_count": null,
   "metadata": {},
   "outputs": [],
   "source": [
    "\n",
    "\n"
   ]
  },
  {
   "cell_type": "code",
   "execution_count": null,
   "metadata": {},
   "outputs": [],
   "source": [
    "\n"
   ]
  },
  {
   "cell_type": "code",
   "execution_count": null,
   "metadata": {},
   "outputs": [],
   "source": [
    "\n"
   ]
  },
  {
   "cell_type": "code",
   "execution_count": null,
   "metadata": {},
   "outputs": [],
   "source": [
    "time_domain2(df,'sf')\n",
    "time_domain2(df_eval,'sf')"
   ]
  },
  {
   "cell_type": "code",
   "execution_count": null,
   "metadata": {},
   "outputs": [],
   "source": [
    "\n",
    "sro_feature(df)\n",
    "sro_feature(df_eval)"
   ]
  },
  {
   "cell_type": "code",
   "execution_count": null,
   "metadata": {},
   "outputs": [],
   "source": [
    "time_domain2(df,'spectral_rolloff')\n",
    "time_domain2(df_eval,'spectral_rolloff')"
   ]
  },
  {
   "cell_type": "code",
   "execution_count": null,
   "metadata": {},
   "outputs": [],
   "source": [
    "\n",
    "zcr_feature(df)\n",
    "zcr_feature(df_eval)"
   ]
  },
  {
   "cell_type": "code",
   "execution_count": null,
   "metadata": {},
   "outputs": [],
   "source": [
    "\n",
    "mfcc_feature(df)\n",
    "mfcc_feature(df_eval)"
   ]
  },
  {
   "cell_type": "code",
   "execution_count": null,
   "metadata": {},
   "outputs": [],
   "source": []
  },
  {
   "cell_type": "code",
   "execution_count": null,
   "metadata": {},
   "outputs": [],
   "source": []
  },
  {
   "cell_type": "code",
   "execution_count": null,
   "metadata": {},
   "outputs": [],
   "source": [
    "X = df2.copy()\n",
    "X2 = df3.copy()"
   ]
  },
  {
   "cell_type": "code",
   "execution_count": null,
   "metadata": {},
   "outputs": [],
   "source": [
    "X.drop(columns=['Id', 'path', 'speakerId', 'action', 'object', 'intent'], inplace=True)\n",
    "\n",
    "X.to_csv('x.csv',index=False)\n",
    "\n",
    "X2.drop(columns=['Id', 'path', 'speakerId'], inplace=True)\n"
   ]
  },
  {
   "cell_type": "code",
   "execution_count": null,
   "metadata": {},
   "outputs": [],
   "source": [
    "import matplotlib.pyplot as plt\n",
    "\n"
   ]
  },
  {
   "cell_type": "code",
   "execution_count": null,
   "metadata": {},
   "outputs": [],
   "source": [
    "# from sklearn.decomposition import PCA\n",
    "# import pandas as pd\n",
    "\n",
    "# # Assuming your dataframe is named 'df'\n",
    "\n",
    "# # Create an instance of PCA\n",
    "# pca = PCA()\n",
    "\n",
    "# # Fit PCA on the data\n",
    "# pca.fit(X)\n",
    "\n",
    "# # Get the explained variance ratio of each principal component\n",
    "# var_ratio = pca.explained_variance_ratio_\n",
    "\n",
    "# # Get the cumulative explained variance ratio\n",
    "# cum_var_ratio = np.cumsum(var_ratio)\n",
    "\n",
    "# # Plot the explained variance ratio\n",
    "# plt.bar(range(1, len(var_ratio)+1), var_ratio, alpha=0.5, align='center', label='individual explained variance')\n",
    "# plt.step(range(1, len(cum_var_ratio)+1), cum_var_ratio, where='mid', label='cumulative explained variance')\n",
    "# plt.ylabel('Explained variance ratio')\n",
    "# plt.xlabel('Principal component index')\n",
    "# plt.legend(loc='best')\n",
    "# plt.show()\n",
    "\n",
    "\n",
    "# # Create an instance of PCA, specifying the number of components to keep\n",
    "# pca = PCA(n_components=75)\n",
    "\n",
    "# # Fit PCA on the data\n",
    "# df_pca = pca.fit_transform(X)\n"
   ]
  },
  {
   "cell_type": "code",
   "execution_count": 10,
   "metadata": {},
   "outputs": [],
   "source": [
    "y = df['intent'].values\n",
    "X = pd.read_csv(\"x.csv\")\n",
    "X_eval = pd.read_csv(\"x_eval.csv\")"
   ]
  },
  {
   "cell_type": "code",
   "execution_count": null,
   "metadata": {},
   "outputs": [],
   "source": [
    "from sklearn.preprocessing import MinMaxScaler\n",
    "\n",
    "def normalize_dataframe(df):\n",
    "    scaler = MinMaxScaler()\n",
    "    df[df.columns] = scaler.fit_transform(df[df.columns])\n",
    "    return df\n",
    "\n",
    "X =  normalize_dataframe(X)\n",
    "X_eval = normalize_dataframe(X_eval)"
   ]
  },
  {
   "cell_type": "code",
   "execution_count": 34,
   "metadata": {},
   "outputs": [
    {
     "name": "stdout",
     "output_type": "stream",
     "text": [
      "0.519533231861999 ('linear', 1, 0.1)\n",
      "0.519533231861999 ('linear', 1, 1)\n",
      "0.5256215119228818 ('linear', 10, 0.01)\n"
     ]
    }
   ],
   "source": [
    "X_train, X_test, y_train, y_test = train_test_split(X, y, test_size=0.2, random_state=42)\n",
    "hyperparams = [('linear', 0.1, 0.01), ('linear', 0.1, 0.1), ('linear', 0.1, 1), ('linear', 1, 0.01), ('linear', 1, 0.1), ('linear', 1, 1), ('linear', 10, 0.01), ('linear', 10, 0.1), ('linear', 10, 1), ('rbf', 0.1, 0.01), ('rbf', 0.1, 0.1), ('rbf', 0.1, 1), ('rbf', 1, 0.01), ('rbf', 1, 0.1), ('rbf', 1, 1), ('rbf', 10, 0.01), ('rbf', 10, 0.1), ('rbf', 10, 1)]\n",
    "def svm_model2(X_train, y_train, X_test, hyperparams):\n",
    "    clf = SVC(C = hyperparams[1], gamma = hyperparams[2], kernel = hyperparams[0])\n",
    "    # train the model on the training data\n",
    "    clf.fit(X_train, y_train)\n",
    "    # predict the target values for the test data\n",
    "    # returning the y_predict\n",
    "    return clf.predict(X_test)\n",
    "for i in hyperparams:\n",
    "    y_pred = svm_model2(X_train, y_train, X_test,i)\n",
    "    print(accuracy_calculator(y_test, y_pred),i)\n"
   ]
  },
  {
   "cell_type": "code",
   "execution_count": null,
   "metadata": {},
   "outputs": [],
   "source": [
    "y_pred = random_forest_model(X_train, X_test, y_train)\n",
    "random_forest_accuracy = accuracy_calculator(y_test, y_pred)\n",
    "random_forest_accuracy"
   ]
  },
  {
   "cell_type": "code",
   "execution_count": null,
   "metadata": {},
   "outputs": [],
   "source": [
    "clf = RandomForestClassifier(n_estimators=100, random_state=0)\n",
    "\n",
    "# shuffle the data before performing k-fold cross validation\n",
    "X_shuffled, y_shuffled = shuffle(X, y)\n",
    "\n",
    "# perform k-fold cross validation with 5 folds\n",
    "scores = cross_val_score(clf, X_shuffled, y_shuffled, cv=10)\n",
    "\n",
    "# calculate the mean accuracy of the model across all folds\n",
    "accuracy = np.mean(scores)\n",
    "print(\"Accuracy:\", accuracy)\n"
   ]
  },
  {
   "cell_type": "code",
   "execution_count": null,
   "metadata": {},
   "outputs": [],
   "source": [
    "from sklearn.svm import SVC\n",
    "\n",
    "\n",
    "# def svm_model2(X_train, y_train, X_test):\n",
    "#     clf = SVC()\n",
    "#     # train the model on the training data\n",
    "#     clf.fit(X_train, y_train)\n",
    "#     # predict the target values for the test data\n",
    "#     # returning the y_predict\n",
    "#     return clf.predict(X_test)\n",
    "# y_pred = svm_model2(X_train, y_train, X_test)\n",
    "# svm_accuracy = accuracy_calculator(y_test, y_pred)"
   ]
  },
  {
   "cell_type": "code",
   "execution_count": null,
   "metadata": {},
   "outputs": [],
   "source": [
    "# svm_accuracy"
   ]
  },
  {
   "cell_type": "code",
   "execution_count": null,
   "metadata": {},
   "outputs": [],
   "source": [
    "# clf = RandomForestClassifier(n_estimators=100, random_state=0)\n",
    "\n",
    "# # shuffle the data before performing k-fold cross validation\n",
    "# X_shuffled, y_shuffled = shuffle(X, y)\n",
    "\n",
    "# # perform k-fold cross validation with 5 folds\n",
    "# scores = cross_val_score(clf, X_shuffled, y_shuffled, cv=5)\n",
    "\n",
    "# # calculate the mean accuracy of the model across all folds\n",
    "# accuracy = np.mean(scores)\n",
    "# print(\"Accuracy:\", accuracy)\n"
   ]
  },
  {
   "cell_type": "code",
   "execution_count": null,
   "metadata": {},
   "outputs": [],
   "source": [
    "from sklearn.decomposition import PCA\n",
    "from sklearn.svm import SVC\n",
    "from sklearn.model_selection import GridSearchCV\n",
    "from sklearn.preprocessing import StandardScaler\n",
    "from sklearn.model_selection import train_test_split\n",
    "\n",
    "# Split the dataset into training and test sets\n",
    "X_train, X_test, y_train, y_test = train_test_split(X, y, test_size=0.2, random_state=42)\n",
    "\n",
    "# Scale the training data\n",
    "scaler = StandardScaler()\n",
    "X_train_scaled = scaler.fit_transform(X_train)\n",
    "\n",
    "# Initialize PCA\n",
    "pca = PCA()\n",
    "\n",
    "# Fit PCA to the scaled training data\n",
    "X_train_pca = pca.fit_transform(X_train_scaled)\n",
    "\n",
    "# Get the explained variance ratio\n",
    "explained_variance = pca.explained_variance_ratio_\n",
    "\n",
    "# Calculate the cumulative explained variance\n",
    "cumulative_explained_variance = np.cumsum(explained_variance)\n",
    "\n",
    "# # Print the explained variance and cumulative explained variance\n",
    "# print(\"Explained Variance: \", explained_variance)\n",
    "# print(\"Cumulative Explained Variance: \", cumulative_explained_variance)\n",
    "\n",
    "# Determine the number of components to keep\n",
    "n_components = np.argmax(cumulative_explained_variance >= 0.9) + 1\n",
    "\n",
    "# Re-initialize PCA with the number of components to keep\n",
    "pca = PCA(n_components=n_components)\n",
    "\n",
    "# Fit PCA to the scaled training data\n",
    "X_train_pca = pca.fit_transform(X_train_scaled)\n",
    "\n",
    "# Get the indices of the top n features\n",
    "feature_indices = np.argmax(pca.components_, axis=1)\n",
    "\n",
    "# Print out the top n features\n",
    "top_features = [X.columns[i] for i in feature_indices]\n",
    "\n",
    "# Transform the test set\n",
    "X_test_scaled = scaler.transform(X_test)\n",
    "X_test_pca = pca.transform(X_test_scaled)"
   ]
  },
  {
   "cell_type": "code",
   "execution_count": null,
   "metadata": {},
   "outputs": [],
   "source": [
    "from sklearn.decomposition import PCA\n",
    "from sklearn.svm import SVC\n",
    "\n",
    "\n",
    "# Create a new SVM model\n",
    "svm = SVC()\n",
    "\n",
    "# Use grid search to find the optimal parameters\n",
    "param_grid = {'kernel': ['linear', 'rbf'], 'C': [0.1, 1, 10], 'gamma': [0.01, 0.1, 1]}\n",
    "grid_search = GridSearchCV(svm, param_grid, cv=10)\n",
    "grid_search.fit(X_train_pca, y_train)\n",
    "\n",
    "# Print out the best parameters\n",
    "print(\"Best Parameters: \", grid_search.best_params_)\n",
    "\n",
    "\n",
    "# evaluate the best model on the test data\n",
    "best_model = grid_search.best_estimator_\n",
    "best_score = best_model.score(X_test_pca, y_test)\n",
    "print(\"Best Score on Test Data: \", best_score)"
   ]
  },
  {
   "cell_type": "code",
   "execution_count": null,
   "metadata": {},
   "outputs": [],
   "source": [
    "# svm_model = SVC(C = 10, gamma = 0.1, kernel = 'rbf')\n",
    "# svm_model.fit(X_train_pca, y_train)\n",
    "\n",
    "# # evaluate the model with test data\n",
    "# test_score = svm_model.score(X_test_pca, y_test)\n",
    "# print(\"Test Score: \", test_score)\n",
    "\n",
    "for i in hyperparams:\n",
    "    y_pred = svm_model2(X_train_pca, y_train, X_test_pca,i)\n",
    "    print(accuracy_calculator(y_test, y_pred),i)"
   ]
  },
  {
   "cell_type": "code",
   "execution_count": null,
   "metadata": {},
   "outputs": [],
   "source": [
    "X_test_pca = normalize_dataframe(pd.DataFrame(X_test_pca))"
   ]
  },
  {
   "cell_type": "code",
   "execution_count": null,
   "metadata": {},
   "outputs": [],
   "source": [
    "X_test_pca"
   ]
  },
  {
   "cell_type": "code",
   "execution_count": null,
   "metadata": {},
   "outputs": [],
   "source": [
    "# Step 4: Select top n features\n",
    "from sklearn.feature_selection import SelectKBest, f_classif\n",
    "selector = SelectKBest(f_classif, k=80)\n",
    "selector.fit(X_train_pca, y_train)\n",
    "X_train_best = selector.transform(X_train_pca)\n",
    "X_test_best = selector.transform(X_test_pca)\n",
    "# Get the indices of the top n features\n",
    "feature_indices = selector.get_support(indices=True)\n",
    "best_n_features = [X.columns[i] for i in feature_indices]\n"
   ]
  },
  {
   "cell_type": "code",
   "execution_count": 13,
   "metadata": {},
   "outputs": [
    {
     "ename": "NameError",
     "evalue": "name 'X_train_pca' is not defined",
     "output_type": "error",
     "traceback": [
      "\u001b[0;31m---------------------------------------------------------------------------\u001b[0m",
      "\u001b[0;31mNameError\u001b[0m                                 Traceback (most recent call last)",
      "Cell \u001b[0;32mIn[13], line 2\u001b[0m\n\u001b[1;32m      1\u001b[0m svm_model \u001b[39m=\u001b[39m SVC(C \u001b[39m=\u001b[39m \u001b[39m10\u001b[39m, gamma \u001b[39m=\u001b[39m \u001b[39m0.01\u001b[39m, kernel \u001b[39m=\u001b[39m \u001b[39m'\u001b[39m\u001b[39mrbf\u001b[39m\u001b[39m'\u001b[39m)\n\u001b[0;32m----> 2\u001b[0m pred \u001b[39m=\u001b[39m svm_model\u001b[39m.\u001b[39mfit(X_train_pca, y_train)\n",
      "\u001b[0;31mNameError\u001b[0m: name 'X_train_pca' is not defined"
     ]
    }
   ],
   "source": [
    "svm_model = SVC(C = 10, gamma = 0.01, kernel = 'rbf')\n",
    "svm_model.fit(X_train_pca, y_train)"
   ]
  },
  {
   "cell_type": "code",
   "execution_count": 15,
   "metadata": {},
   "outputs": [],
   "source": []
  },
  {
   "cell_type": "code",
   "execution_count": 16,
   "metadata": {},
   "outputs": [
    {
     "data": {
      "text/plain": [
       "array([3])"
      ]
     },
     "execution_count": 16,
     "metadata": {},
     "output_type": "execute_result"
    }
   ],
   "source": [
    "np.unique(y_pred)"
   ]
  },
  {
   "cell_type": "code",
   "execution_count": null,
   "metadata": {},
   "outputs": [],
   "source": [
    "svm_accuracy"
   ]
  },
  {
   "cell_type": "code",
   "execution_count": null,
   "metadata": {},
   "outputs": [],
   "source": [
    "# from sklearn.metrics import make_scorer, accuracy_score\n",
    "# from sklearn.model_selection import GridSearchCV\n",
    "# from sklearn.feature_selection import RFE\n",
    "\n",
    "\n",
    "# # Initialize the feature matrix and target variable\n",
    "\n",
    "# # Initialize the SVM model\n",
    "# svm = SVC(kernel=\"linear\")\n",
    "\n",
    "# # Initialize RFE \n",
    "# rfe = RFE(svm)\n",
    "\n",
    "# # Define the grid of values for the number of features to select and the accuracy required\n",
    "# param_grid = {'n_features_to_select':[60,70,80], \n",
    "#               'estimator__C':[0.1, 1, 10], \n",
    "#               'estimator__kernel':['linear', 'rbf', 'poly'], \n",
    "#               'estimator__gamma': [0.1, 1, 10]}\n",
    "\n",
    "# # Define the scoring function\n",
    "# acc_scorer = make_scorer(accuracy_score)\n",
    "\n",
    "# # Initialize GridSearchCV\n",
    "# grid_search = GridSearchCV(rfe, param_grid, scoring=acc_scorer)\n",
    "\n",
    "# # Fit the grid_search to the data\n",
    "# grid_search.fit(X_train, y_train)\n",
    "\n",
    "# best_params = grid_search.best_params_\n",
    "# best_score = grid_search.best_score_\n",
    "# support = grid_search.best_estimator_.support_\n",
    "\n",
    "# # Get the feature names\n",
    "# feature_names = X.columns\n",
    "\n",
    "# # Get the best features\n",
    "# best_features = feature_names[support]\n",
    "\n",
    "# # Print the best parameters, best score, and best features\n",
    "# print(\"Best parameters: \", best_params)\n",
    "# print(\"Best score: \", best_score)\n",
    "# print(\"Best features: \", best_features)"
   ]
  },
  {
   "cell_type": "code",
   "execution_count": null,
   "metadata": {},
   "outputs": [],
   "source": []
  }
 ],
 "metadata": {
  "kernelspec": {
   "display_name": "venv",
   "language": "python",
   "name": "python3"
  },
  "language_info": {
   "codemirror_mode": {
    "name": "ipython",
    "version": 3
   },
   "file_extension": ".py",
   "mimetype": "text/x-python",
   "name": "python",
   "nbconvert_exporter": "python",
   "pygments_lexer": "ipython3",
   "version": "3.10.9"
  },
  "vscode": {
   "interpreter": {
    "hash": "ccc2ef6718a2989112780daffa238f2a5d7e50ea457a5804450be0e592151e16"
   }
  }
 },
 "nbformat": 4,
 "nbformat_minor": 4
}
