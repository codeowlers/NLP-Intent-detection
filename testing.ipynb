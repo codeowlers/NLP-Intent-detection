{
 "cells": [
  {
   "cell_type": "code",
   "execution_count": 11,
   "metadata": {},
   "outputs": [],
   "source": [
    "import pandas as pd\n",
    "import numpy as np\n",
    "from pathlib import Path\n",
    "import librosa\n",
    "from sklearn.ensemble import RandomForestClassifier\n",
    "from sklearn.model_selection import cross_val_score\n",
    "from sklearn.utils import shuffle\n",
    "from algorithms import encode_columns, svm_model, accuracy_calculator, random_forest_model, array_column_spread\n",
    "from sklearn.model_selection import train_test_split\n",
    "from sklearn.svm import SVC\n",
    "from sklearn.ensemble import RandomForestClassifier"
   ]
  },
  {
   "cell_type": "code",
   "execution_count": 12,
   "metadata": {},
   "outputs": [],
   "source": [
    "df = pd.read_csv(\"dsl_data/development.csv\")\n",
    "df_eval = pd.read_csv(\"dsl_data/evaluation.csv\")\n",
    "y = df.values[:,3:5].sum(axis=1)\n",
    "df2_eval = pd.read_csv(\"x_eval.csv\")\n",
    "df2= pd.read_csv(\"x.csv\")"
   ]
  },
  {
   "cell_type": "code",
   "execution_count": 13,
   "metadata": {},
   "outputs": [],
   "source": [
    "# def add_mean_column(df, prefix):\n",
    "#     mean_column = df.filter(regex=f\"^{prefix}.*\").mean(axis=1)\n",
    "#     df[prefix + \"_mean\"] = mean_column\n",
    "\n",
    "# add_mean_column(df, 'chroma')"
   ]
  },
  {
   "cell_type": "code",
   "execution_count": 14,
   "metadata": {},
   "outputs": [
    {
     "data": {
      "text/plain": [
       "Index(['Unnamed: 0', 'Self-reported fluency level ', 'First Language spoken',\n",
       "       'speakerId', 'gender', 'ageRange', 'chroma_0', 'chroma_1', 'chroma_2',\n",
       "       'chroma_3', 'chroma_4', 'chroma_5', 'chroma_6', 'chroma_7', 'chroma_8',\n",
       "       'chroma_9', 'chroma_10', 'chroma_11', 'tonnetz_0', 'tonnetz_1',\n",
       "       'tonnetz_2', 'tonnetz_3', 'tonnetz_4', 'tonnetz_5',\n",
       "       'spectral_contrast_0', 'spectral_contrast_1', 'spectral_contrast_2',\n",
       "       'spectral_contrast_3', 'spectral_contrast_4', 'spectral_contrast_5',\n",
       "       'spectral_contrast_6', 'rmse', 'sf', 'spectral_rolloff',\n",
       "       'zero_crossing_rate', 'mfcc_0', 'mfcc_1', 'mfcc_2', 'mfcc_3', 'mfcc_4',\n",
       "       'mfcc_5', 'mfcc_6', 'mfcc_7', 'mfcc_8', 'mfcc_9', 'mfcc_10', 'mfcc_11',\n",
       "       'mfcc_12', 'mfcc_13', 'mfcc_14', 'mfcc_15', 'mfcc_16', 'mfcc_17',\n",
       "       'mfcc_18', 'mfcc_19', 'mfcc_20', 'mfcc_21', 'mfcc_22', 'mfcc_23',\n",
       "       'mfcc_24', 'mfcc_25', 'mfcc_26', 'mfcc_27', 'mfcc_28', 'mfcc_29',\n",
       "       'mfcc_30', 'mfcc_31', 'mfcc_32', 'mfcc_33', 'mfcc_34', 'mfcc_35',\n",
       "       'mfcc_36', 'mfcc_37', 'mfcc_38', 'mfcc_39', 'mfcc_40', 'mfcc_41',\n",
       "       'mfcc_42', 'mfcc_43', 'mfcc_44', 'mfcc_45', 'mfcc_46', 'mfcc_47',\n",
       "       'mfcc_48', 'mfcc_49', 'chroma_mean', 'tonnetz_mean',\n",
       "       'spectral_contrast_mean', 'mfcc_mean'],\n",
       "      dtype='object')"
      ]
     },
     "execution_count": 14,
     "metadata": {},
     "output_type": "execute_result"
    }
   ],
   "source": [
    "df2.columns"
   ]
  },
  {
   "cell_type": "code",
   "execution_count": 19,
   "metadata": {},
   "outputs": [],
   "source": [
    "features = [\n",
    "       'Self-reported fluency level ', 'First Language spoken',\n",
    "       'speakerId', 'gender', 'ageRange', 'tonnetz_0', 'tonnetz_1',\n",
    "       'tonnetz_2', 'tonnetz_3', 'tonnetz_4', 'tonnetz_5',\n",
    "       'spectral_contrast_0', 'spectral_contrast_1', 'spectral_contrast_2',\n",
    "       'spectral_contrast_3', 'spectral_contrast_4', 'spectral_contrast_5',\n",
    "       'spectral_contrast_6', 'rmse', 'sf', 'spectral_rolloff',\n",
    "       'zero_crossing_rate', 'chroma_mean','mfcc_0', 'mfcc_1', 'mfcc_2', 'mfcc_3', 'mfcc_4',\n",
    "       'mfcc_5', 'mfcc_6', 'mfcc_7', 'mfcc_8', 'mfcc_9', 'mfcc_10', 'mfcc_11',\n",
    "       'mfcc_12', 'mfcc_13', 'mfcc_14', 'mfcc_15', 'mfcc_16', 'mfcc_17',\n",
    "       'mfcc_18', 'mfcc_19', 'mfcc_20', 'mfcc_21', 'mfcc_22', 'mfcc_23',\n",
    "       'mfcc_24', 'mfcc_25', 'mfcc_26', 'mfcc_27', 'mfcc_28', 'mfcc_29',\n",
    "       'mfcc_30', 'mfcc_31', 'mfcc_32', 'mfcc_33', 'mfcc_34', 'mfcc_35',\n",
    "       'mfcc_36', 'mfcc_37', 'mfcc_38', 'mfcc_39', 'mfcc_40', 'mfcc_41',\n",
    "       'mfcc_42', 'mfcc_43', 'mfcc_44', 'mfcc_45', 'mfcc_46', 'mfcc_47',\n",
    "       'mfcc_48', 'mfcc_49'\n",
    "]"
   ]
  },
  {
   "cell_type": "code",
   "execution_count": 6,
   "metadata": {},
   "outputs": [],
   "source": [
    "X_eval = ['Self-reported fluency level ', 'First Language spoken',\n",
    "       'speakerId', 'gender', 'ageRange', 'chroma_0', 'chroma_1', 'chroma_2',\n",
    "       'chroma_3', 'chroma_4', 'chroma_5', 'chroma_6', 'chroma_7', 'chroma_8',\n",
    "       'chroma_9', 'chroma_10', 'chroma_11', 'tonnetz_0', 'tonnetz_1',\n",
    "       'tonnetz_2', 'tonnetz_3', 'tonnetz_4', 'tonnetz_5',\n",
    "       'spectral_contrast_0', 'spectral_contrast_1', 'spectral_contrast_2',\n",
    "       'spectral_contrast_3', 'spectral_contrast_4', 'spectral_contrast_5',\n",
    "       'spectral_contrast_6', 'rmse', 'sf', 'spectral_rolloff',\n",
    "       'zero_crossing_rate', 'mfcc_0', 'mfcc_1', 'mfcc_2', 'mfcc_3', 'mfcc_4',\n",
    "       'mfcc_5', 'mfcc_6', 'mfcc_7', 'mfcc_8', 'mfcc_9', 'mfcc_10', 'mfcc_11',\n",
    "       'mfcc_12', 'mfcc_13', 'mfcc_14', 'mfcc_15', 'mfcc_16', 'mfcc_17',\n",
    "       'mfcc_18', 'mfcc_19', 'mfcc_20', 'mfcc_21', 'mfcc_22', 'mfcc_23',\n",
    "       'mfcc_24', 'mfcc_25', 'mfcc_26', 'mfcc_27', 'mfcc_28', 'mfcc_29',\n",
    "       'mfcc_30', 'mfcc_31', 'mfcc_32', 'mfcc_33', 'mfcc_34', 'mfcc_35',\n",
    "       'mfcc_36', 'mfcc_37', 'mfcc_38', 'mfcc_39', 'mfcc_40', 'mfcc_41',\n",
    "       'mfcc_42', 'mfcc_43', 'mfcc_44', 'mfcc_45', 'mfcc_46', 'mfcc_47',\n",
    "       'mfcc_48', 'mfcc_49', 'chroma_mean', 'tonnetz_mean',\n",
    "       'spectral_contrast_mean', 'mfcc_mean']"
   ]
  },
  {
   "cell_type": "code",
   "execution_count": 20,
   "metadata": {},
   "outputs": [
    {
     "data": {
      "text/plain": [
       "73"
      ]
     },
     "execution_count": 20,
     "metadata": {},
     "output_type": "execute_result"
    }
   ],
   "source": [
    "X = df2[features].copy()\n",
    "\n",
    "len(X.columns)"
   ]
  },
  {
   "cell_type": "code",
   "execution_count": 17,
   "metadata": {},
   "outputs": [],
   "source": [
    "X_train, X_test, y_train, y_test = train_test_split(X, y, test_size=0.2, random_state=42)"
   ]
  },
  {
   "cell_type": "code",
   "execution_count": null,
   "metadata": {},
   "outputs": [],
   "source": [
    "from sklearn.ensemble import RandomForestClassifier\n",
    "from sklearn.model_selection import RandomizedSearchCV\n",
    "from scipy.stats import randint as sp_randint\n",
    "\n",
    "# Create an instance of the RandomForestClassifier\n",
    "clf = RandomForestClassifier()\n",
    "\n",
    "# Define the parameter grid for the RandomizedSearchCV\n",
    "param_grid = {\n",
    "    \"n_estimators\": sp_randint(50, 200),\n",
    "    \"max_depth\": sp_randint(2, 10),\n",
    "    \"min_samples_split\": sp_randint(2, 10),\n",
    "    \"min_samples_leaf\": sp_randint(1, 10),\n",
    "    \"max_features\": ['auto', 'sqrt', 'log2']\n",
    "}\n",
    "\n",
    "# Create an instance of the RandomizedSearchCV\n",
    "random_search = RandomizedSearchCV(clf, param_distributions=param_grid, n_iter=100, cv=4)\n",
    "\n",
    "# Fit the randomized search on the data\n",
    "random_search.fit(X, y)\n",
    "\n",
    "# Print the best parameters\n",
    "print(\"Best parameters: \", random_search.best_params_)"
   ]
  },
  {
   "cell_type": "code",
   "execution_count": 10,
   "metadata": {},
   "outputs": [],
   "source": [
    "y_pred = svm_model(X_train, y_train, X_test)\n",
    "accuracy_calculator(y_test, y_pred)"
   ]
  },
  {
   "cell_type": "code",
   "execution_count": 18,
   "metadata": {},
   "outputs": [
    {
     "data": {
      "text/plain": [
       "0.3485540334855403"
      ]
     },
     "execution_count": 18,
     "metadata": {},
     "output_type": "execute_result"
    }
   ],
   "source": [
    "y_pred = random_forest_model(X_train, X_test, y_train)\n",
    "accuracy_calculator(y_test, y_pred)"
   ]
  },
  {
   "cell_type": "code",
   "execution_count": null,
   "metadata": {},
   "outputs": [],
   "source": [
    "## Implementation using k-fold\n",
    "from sklearn.model_selection import KFold, cross_val_score\n",
    "# define the number of folds and whether to shuffle the data\n",
    "kf = KFold(n_splits=5, shuffle=True, random_state=42)\n",
    "\n",
    "# create an instance of the SVM model\n",
    "clf = SVC()\n",
    "\n",
    "# use cross_val_score function to perform k-fold cross-validation\n",
    "scores = cross_val_score(clf, X, y, cv=kf, scoring='accuracy')\n",
    "\n",
    "# print the mean accuracy and standard deviation\n",
    "print(\"Accuracy: %0.2f (+/- %0.2f)\" % (scores.mean(), scores.std()))"
   ]
  },
  {
   "cell_type": "code",
   "execution_count": null,
   "metadata": {},
   "outputs": [],
   "source": [
    "clf = RandomForestClassifier(n_estimators=100, random_state=0)\n",
    "\n",
    "# shuffle the data before performing k-fold cross validation\n",
    "X, y = shuffle(X, y)\n",
    "\n",
    "# perform k-fold cross validation with 5 folds\n",
    "scores = cross_val_score(clf, X, y, cv=5)\n",
    "\n",
    "# calculate the mean accuracy of the model across all folds\n",
    "accuracy = np.mean(scores)\n",
    "print(\"Accuracy:\", accuracy)\n"
   ]
  }
 ],
 "metadata": {
  "kernelspec": {
   "display_name": "venv",
   "language": "python",
   "name": "python3"
  },
  "language_info": {
   "codemirror_mode": {
    "name": "ipython",
    "version": 3
   },
   "file_extension": ".py",
   "mimetype": "text/x-python",
   "name": "python",
   "nbconvert_exporter": "python",
   "pygments_lexer": "ipython3",
   "version": "3.10.9"
  },
  "orig_nbformat": 4,
  "vscode": {
   "interpreter": {
    "hash": "09ee11da7dc62f10eaf9df9c4559184832adcd88d836286cbf9804f9d006cf55"
   }
  }
 },
 "nbformat": 4,
 "nbformat_minor": 2
}
