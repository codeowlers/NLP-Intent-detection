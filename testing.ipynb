{
 "cells": [
  {
   "cell_type": "code",
   "execution_count": 1,
   "metadata": {},
   "outputs": [],
   "source": [
    "import pandas as pd\n",
    "import numpy as np\n",
    "from pathlib import Path\n",
    "import librosa\n",
    "from sklearn.ensemble import RandomForestClassifier\n",
    "from sklearn.model_selection import cross_val_score\n",
    "from sklearn.utils import shuffle\n",
    "from algorithms import encode_columns, svm_model, accuracy_calculator, random_forest_model, array_column_spread\n",
    "from sklearn.model_selection import train_test_split\n",
    "from sklearn.svm import SVC\n",
    "from sklearn.ensemble import RandomForestClassifier"
   ]
  },
  {
   "cell_type": "code",
   "execution_count": 2,
   "metadata": {},
   "outputs": [],
   "source": [
    "df = pd.read_csv(\"dsl_data/development.csv\")\n",
    "df_eval = pd.read_csv(\"dsl_data/evaluation.csv\")\n",
    "y = df.values[:,3:5].sum(axis=1)\n",
    "X_eval = pd.read_csv(\"x_eval.csv\")\n",
    "X = pd.read_csv(\"x.csv\")"
   ]
  },
  {
   "cell_type": "code",
   "execution_count": 3,
   "metadata": {},
   "outputs": [
    {
     "data": {
      "text/plain": [
       "Index(['Unnamed: 0', 'Self-reported fluency level ', 'First Language spoken',\n",
       "       'speakerId', 'gender', 'ageRange', 'chroma_0', 'chroma_1', 'chroma_2',\n",
       "       'chroma_3', 'chroma_4', 'chroma_5', 'chroma_6', 'chroma_7', 'chroma_8',\n",
       "       'chroma_9', 'chroma_10', 'chroma_11', 'tonnetz_0', 'tonnetz_1',\n",
       "       'tonnetz_2', 'tonnetz_3', 'tonnetz_4', 'tonnetz_5',\n",
       "       'spectral_contrast_0', 'spectral_contrast_1', 'spectral_contrast_2',\n",
       "       'spectral_contrast_3', 'spectral_contrast_4', 'spectral_contrast_5',\n",
       "       'spectral_contrast_6', 'rmse', 'sf', 'spectral_rolloff',\n",
       "       'zero_crossing_rate', 'mfcc_0', 'mfcc_1', 'mfcc_2', 'mfcc_3', 'mfcc_4',\n",
       "       'mfcc_5', 'mfcc_6', 'mfcc_7', 'mfcc_8', 'mfcc_9', 'mfcc_10', 'mfcc_11',\n",
       "       'mfcc_12', 'mfcc_13', 'mfcc_14', 'mfcc_15', 'mfcc_16', 'mfcc_17',\n",
       "       'mfcc_18', 'mfcc_19', 'mfcc_20', 'mfcc_21', 'mfcc_22', 'mfcc_23',\n",
       "       'mfcc_24', 'mfcc_25', 'mfcc_26', 'mfcc_27', 'mfcc_28', 'mfcc_29',\n",
       "       'mfcc_30', 'mfcc_31', 'mfcc_32', 'mfcc_33', 'mfcc_34', 'mfcc_35',\n",
       "       'mfcc_36', 'mfcc_37', 'mfcc_38', 'mfcc_39', 'mfcc_40', 'mfcc_41',\n",
       "       'mfcc_42', 'mfcc_43', 'mfcc_44', 'mfcc_45', 'mfcc_46', 'mfcc_47',\n",
       "       'mfcc_48', 'mfcc_49', 'chroma_mean', 'tonnetz_mean',\n",
       "       'spectral_contrast_mean', 'mfcc_mean'],\n",
       "      dtype='object')"
      ]
     },
     "execution_count": 3,
     "metadata": {},
     "output_type": "execute_result"
    }
   ],
   "source": [
    "X_eval.columns"
   ]
  },
  {
   "cell_type": "code",
   "execution_count": 3,
   "metadata": {},
   "outputs": [],
   "source": [
    "X_train, X_test, y_train, y_test = train_test_split(X, y, test_size=0.2, random_state=42)"
   ]
  },
  {
   "cell_type": "code",
   "execution_count": 4,
   "metadata": {},
   "outputs": [],
   "source": [
    "y_pred = svm_model(X_train, y_train, X_test)\n",
    "accuracy_calculator(y_test, y_pred)"
   ]
  },
  {
   "cell_type": "code",
   "execution_count": null,
   "metadata": {},
   "outputs": [],
   "source": [
    "y_pred = random_forest_model(X_train, X_test, y_train)\n",
    "accuracy_calculator(y_test, y_pred)"
   ]
  },
  {
   "cell_type": "code",
   "execution_count": null,
   "metadata": {},
   "outputs": [],
   "source": [
    "## Implementation using k-fold\n",
    "from sklearn.model_selection import KFold, cross_val_score\n",
    "# define the number of folds and whether to shuffle the data\n",
    "kf = KFold(n_splits=5, shuffle=True, random_state=42)\n",
    "\n",
    "# create an instance of the SVM model\n",
    "clf = SVC()\n",
    "\n",
    "# use cross_val_score function to perform k-fold cross-validation\n",
    "scores = cross_val_score(clf, X, y, cv=kf, scoring='accuracy')\n",
    "\n",
    "# print the mean accuracy and standard deviation\n",
    "print(\"Accuracy: %0.2f (+/- %0.2f)\" % (scores.mean(), scores.std()))"
   ]
  },
  {
   "cell_type": "code",
   "execution_count": null,
   "metadata": {},
   "outputs": [],
   "source": [
    "clf = RandomForestClassifier(n_estimators=100, random_state=0)\n",
    "\n",
    "# shuffle the data before performing k-fold cross validation\n",
    "X, y = shuffle(X, y)\n",
    "\n",
    "# perform k-fold cross validation with 5 folds\n",
    "scores = cross_val_score(clf, X, y, cv=5)\n",
    "\n",
    "# calculate the mean accuracy of the model across all folds\n",
    "accuracy = np.mean(scores)\n",
    "print(\"Accuracy:\", accuracy)\n"
   ]
  }
 ],
 "metadata": {
  "kernelspec": {
   "display_name": "venv",
   "language": "python",
   "name": "python3"
  },
  "language_info": {
   "codemirror_mode": {
    "name": "ipython",
    "version": 3
   },
   "file_extension": ".py",
   "mimetype": "text/x-python",
   "name": "python",
   "nbconvert_exporter": "python",
   "pygments_lexer": "ipython3",
   "version": "3.10.9"
  },
  "orig_nbformat": 4,
  "vscode": {
   "interpreter": {
    "hash": "ccc2ef6718a2989112780daffa238f2a5d7e50ea457a5804450be0e592151e16"
   }
  }
 },
 "nbformat": 4,
 "nbformat_minor": 2
}
