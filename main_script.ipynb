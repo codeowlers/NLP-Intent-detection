{
 "cells": [
  {
   "attachments": {},
   "cell_type": "markdown",
   "metadata": {},
   "source": [
    "### Importing Libraries"
   ]
  },
  {
   "cell_type": "code",
   "execution_count": 84,
   "metadata": {},
   "outputs": [],
   "source": [
    "import pandas as pd\n",
    "import numpy as np"
   ]
  },
  {
   "attachments": {},
   "cell_type": "markdown",
   "metadata": {},
   "source": [
    "### Loading the dataset using Pandas\n",
    "The data is found in development.csv (development set): a comma-separated values file containing the records from the development set. This portion does have the action and object columns, which you should use to obtain the labels to train and validate your models.\n",
    "The dataset consists in a collection of audio file in a WAV format. \n",
    "\n",
    "Each record is characterized by several attributes. The following is a short description for each of them.\n",
    "- path: the path of the audio file.\n",
    "- speakerId: the id of the speaker.\n",
    "- action: the type of action required through the intent.\n",
    "- object: the device involved by intent.\n",
    "- Self-reported fluency level: the speaking fluency of the speaker.\n",
    "- First Language spoken: the first language spoken by the speaker.\n",
    "- Current language used for work/school: the main language spoken by the speaker during daily activities.\n",
    "- gender: the gender of the speaker.\n",
    "- ageRange: the age range of the speaker."
   ]
  },
  {
   "cell_type": "code",
   "execution_count": 85,
   "metadata": {},
   "outputs": [],
   "source": [
    "df = pd.read_csv(\"dsl_data/development.csv\")"
   ]
  },
  {
   "cell_type": "code",
   "execution_count": 86,
   "metadata": {},
   "outputs": [
    {
     "data": {
      "text/plain": [
       "array(['change language', 'activate', 'deactivate', 'increase',\n",
       "       'decrease'], dtype=object)"
      ]
     },
     "execution_count": 86,
     "metadata": {},
     "output_type": "execute_result"
    }
   ],
   "source": [
    "df['action'].unique()"
   ]
  },
  {
   "cell_type": "code",
   "execution_count": 87,
   "metadata": {},
   "outputs": [],
   "source": [
    "# TODO optimize the code\n",
    "def split_actions_to_object():\n",
    "    df.loc[df['object'] == 'none', 'object'] = [x.split(\" \")[1] for x in df.loc[df['object'] == 'none', 'action']]\n",
    "    df.loc[df['action'] == 'change language', 'action'] = [x.split(\" \")[0] for x in df.loc[df['action'] == 'change language', 'action']]"
   ]
  },
  {
   "cell_type": "code",
   "execution_count": 88,
   "metadata": {},
   "outputs": [],
   "source": [
    "split_actions_to_object()"
   ]
  },
  {
   "cell_type": "code",
   "execution_count": 89,
   "metadata": {},
   "outputs": [],
   "source": [
    "y = df.values[:,3:5].sum(axis=1)"
   ]
  },
  {
   "cell_type": "code",
   "execution_count": 90,
   "metadata": {},
   "outputs": [
    {
     "data": {
      "text/html": [
       "<div>\n",
       "<style scoped>\n",
       "    .dataframe tbody tr th:only-of-type {\n",
       "        vertical-align: middle;\n",
       "    }\n",
       "\n",
       "    .dataframe tbody tr th {\n",
       "        vertical-align: top;\n",
       "    }\n",
       "\n",
       "    .dataframe thead th {\n",
       "        text-align: right;\n",
       "    }\n",
       "</style>\n",
       "<table border=\"1\" class=\"dataframe\">\n",
       "  <thead>\n",
       "    <tr style=\"text-align: right;\">\n",
       "      <th></th>\n",
       "      <th>Id</th>\n",
       "      <th>path</th>\n",
       "      <th>speakerId</th>\n",
       "      <th>Self-reported fluency level</th>\n",
       "      <th>First Language spoken</th>\n",
       "      <th>Current language used for work/school</th>\n",
       "      <th>gender</th>\n",
       "      <th>ageRange</th>\n",
       "    </tr>\n",
       "  </thead>\n",
       "  <tbody>\n",
       "    <tr>\n",
       "      <th>0</th>\n",
       "      <td>0</td>\n",
       "      <td>dsl_data/audio/speakers/2BqVo8kVB2Skwgyb/0a312...</td>\n",
       "      <td>2BqVo8kVB2Skwgyb</td>\n",
       "      <td>1</td>\n",
       "      <td>1</td>\n",
       "      <td>1</td>\n",
       "      <td>0</td>\n",
       "      <td>1</td>\n",
       "    </tr>\n",
       "    <tr>\n",
       "      <th>1</th>\n",
       "      <td>1</td>\n",
       "      <td>dsl_data/audio/speakers/2BqVo8kVB2Skwgyb/0ee42...</td>\n",
       "      <td>2BqVo8kVB2Skwgyb</td>\n",
       "      <td>1</td>\n",
       "      <td>1</td>\n",
       "      <td>1</td>\n",
       "      <td>0</td>\n",
       "      <td>1</td>\n",
       "    </tr>\n",
       "    <tr>\n",
       "      <th>2</th>\n",
       "      <td>2</td>\n",
       "      <td>dsl_data/audio/speakers/2BqVo8kVB2Skwgyb/1d9f3...</td>\n",
       "      <td>2BqVo8kVB2Skwgyb</td>\n",
       "      <td>1</td>\n",
       "      <td>1</td>\n",
       "      <td>1</td>\n",
       "      <td>0</td>\n",
       "      <td>1</td>\n",
       "    </tr>\n",
       "    <tr>\n",
       "      <th>3</th>\n",
       "      <td>3</td>\n",
       "      <td>dsl_data/audio/speakers/2BqVo8kVB2Skwgyb/269fc...</td>\n",
       "      <td>2BqVo8kVB2Skwgyb</td>\n",
       "      <td>1</td>\n",
       "      <td>1</td>\n",
       "      <td>1</td>\n",
       "      <td>0</td>\n",
       "      <td>1</td>\n",
       "    </tr>\n",
       "    <tr>\n",
       "      <th>4</th>\n",
       "      <td>4</td>\n",
       "      <td>dsl_data/audio/speakers/2BqVo8kVB2Skwgyb/5bbda...</td>\n",
       "      <td>2BqVo8kVB2Skwgyb</td>\n",
       "      <td>1</td>\n",
       "      <td>1</td>\n",
       "      <td>1</td>\n",
       "      <td>0</td>\n",
       "      <td>1</td>\n",
       "    </tr>\n",
       "    <tr>\n",
       "      <th>...</th>\n",
       "      <td>...</td>\n",
       "      <td>...</td>\n",
       "      <td>...</td>\n",
       "      <td>...</td>\n",
       "      <td>...</td>\n",
       "      <td>...</td>\n",
       "      <td>...</td>\n",
       "      <td>...</td>\n",
       "    </tr>\n",
       "    <tr>\n",
       "      <th>9849</th>\n",
       "      <td>9849</td>\n",
       "      <td>dsl_data/audio/speakers/vnljypgejkINbBAY/4fb3d...</td>\n",
       "      <td>vnljypgejkINbBAY</td>\n",
       "      <td>2</td>\n",
       "      <td>1</td>\n",
       "      <td>1</td>\n",
       "      <td>1</td>\n",
       "      <td>1</td>\n",
       "    </tr>\n",
       "    <tr>\n",
       "      <th>9850</th>\n",
       "      <td>9850</td>\n",
       "      <td>dsl_data/audio/speakers/vnljypgejkINbBAY/59e6a...</td>\n",
       "      <td>vnljypgejkINbBAY</td>\n",
       "      <td>2</td>\n",
       "      <td>1</td>\n",
       "      <td>1</td>\n",
       "      <td>1</td>\n",
       "      <td>1</td>\n",
       "    </tr>\n",
       "    <tr>\n",
       "      <th>9851</th>\n",
       "      <td>9851</td>\n",
       "      <td>dsl_data/audio/speakers/vnljypgejkINbBAY/5c81c...</td>\n",
       "      <td>vnljypgejkINbBAY</td>\n",
       "      <td>2</td>\n",
       "      <td>1</td>\n",
       "      <td>1</td>\n",
       "      <td>1</td>\n",
       "      <td>1</td>\n",
       "    </tr>\n",
       "    <tr>\n",
       "      <th>9852</th>\n",
       "      <td>9852</td>\n",
       "      <td>dsl_data/audio/speakers/vnljypgejkINbBAY/5ef42...</td>\n",
       "      <td>vnljypgejkINbBAY</td>\n",
       "      <td>2</td>\n",
       "      <td>1</td>\n",
       "      <td>1</td>\n",
       "      <td>1</td>\n",
       "      <td>1</td>\n",
       "    </tr>\n",
       "    <tr>\n",
       "      <th>9853</th>\n",
       "      <td>9853</td>\n",
       "      <td>dsl_data/audio/speakers/vnljypgejkINbBAY/61b7a...</td>\n",
       "      <td>vnljypgejkINbBAY</td>\n",
       "      <td>2</td>\n",
       "      <td>1</td>\n",
       "      <td>1</td>\n",
       "      <td>1</td>\n",
       "      <td>1</td>\n",
       "    </tr>\n",
       "  </tbody>\n",
       "</table>\n",
       "<p>9854 rows × 8 columns</p>\n",
       "</div>"
      ],
      "text/plain": [
       "        Id                                               path  \\\n",
       "0        0  dsl_data/audio/speakers/2BqVo8kVB2Skwgyb/0a312...   \n",
       "1        1  dsl_data/audio/speakers/2BqVo8kVB2Skwgyb/0ee42...   \n",
       "2        2  dsl_data/audio/speakers/2BqVo8kVB2Skwgyb/1d9f3...   \n",
       "3        3  dsl_data/audio/speakers/2BqVo8kVB2Skwgyb/269fc...   \n",
       "4        4  dsl_data/audio/speakers/2BqVo8kVB2Skwgyb/5bbda...   \n",
       "...    ...                                                ...   \n",
       "9849  9849  dsl_data/audio/speakers/vnljypgejkINbBAY/4fb3d...   \n",
       "9850  9850  dsl_data/audio/speakers/vnljypgejkINbBAY/59e6a...   \n",
       "9851  9851  dsl_data/audio/speakers/vnljypgejkINbBAY/5c81c...   \n",
       "9852  9852  dsl_data/audio/speakers/vnljypgejkINbBAY/5ef42...   \n",
       "9853  9853  dsl_data/audio/speakers/vnljypgejkINbBAY/61b7a...   \n",
       "\n",
       "             speakerId  Self-reported fluency level   First Language spoken  \\\n",
       "0     2BqVo8kVB2Skwgyb                             1                      1   \n",
       "1     2BqVo8kVB2Skwgyb                             1                      1   \n",
       "2     2BqVo8kVB2Skwgyb                             1                      1   \n",
       "3     2BqVo8kVB2Skwgyb                             1                      1   \n",
       "4     2BqVo8kVB2Skwgyb                             1                      1   \n",
       "...                ...                           ...                    ...   \n",
       "9849  vnljypgejkINbBAY                             2                      1   \n",
       "9850  vnljypgejkINbBAY                             2                      1   \n",
       "9851  vnljypgejkINbBAY                             2                      1   \n",
       "9852  vnljypgejkINbBAY                             2                      1   \n",
       "9853  vnljypgejkINbBAY                             2                      1   \n",
       "\n",
       "      Current language used for work/school  gender  ageRange  \n",
       "0                                         1       0         1  \n",
       "1                                         1       0         1  \n",
       "2                                         1       0         1  \n",
       "3                                         1       0         1  \n",
       "4                                         1       0         1  \n",
       "...                                     ...     ...       ...  \n",
       "9849                                      1       1         1  \n",
       "9850                                      1       1         1  \n",
       "9851                                      1       1         1  \n",
       "9852                                      1       1         1  \n",
       "9853                                      1       1         1  \n",
       "\n",
       "[9854 rows x 8 columns]"
      ]
     },
     "execution_count": 90,
     "metadata": {},
     "output_type": "execute_result"
    }
   ],
   "source": [
    "# TODO optimize this code to return mapping as a variable\n",
    "mapping = {'advanced': 1, 'native': 2, 'basic': 3, 'intermediate':4,}\n",
    "df['Self-reported fluency level '] = df['Self-reported fluency level '].map(mapping)\n",
    "# optimize this code to return mapping as a variable\n",
    "mapping = {'English (United States)': 1, 'French (Canada)': 2, 'English (Canada)': 3, 'Telugu': 4, 'Spanish (Venezuela)': 5}\n",
    "df['First Language spoken'] = df['First Language spoken'].map(mapping)\n",
    "# optimize this code to return mapping as a variable\n",
    "mapping = {'English (United States)': 1, 'English (Canada)': 2, 'English (Australia)': 3, 'Spanish (Venezuela)': 4}\n",
    "df['Current language used for work/school'] = df['Current language used for work/school'].map(mapping)\n",
    "\n",
    "mapping = {'female': 0, 'male': 1}\n",
    "df['gender'] = df['gender'].map(mapping)\n",
    "\n",
    "mapping = {'22-40': 1, '41-65': 2, '65+': 3}\n",
    "df['ageRange'] = df['ageRange'].map(mapping)\n",
    "\n",
    "\n",
    "df.drop(columns=['action', 'object'])"
   ]
  },
  {
   "cell_type": "code",
   "execution_count": 92,
   "metadata": {},
   "outputs": [
    {
     "data": {
      "text/plain": [
       "array(['2BqVo8kVB2Skwgyb', '2ojo7YRL7Gck83Z3', '35v28XaVEns4WXOv',\n",
       "       '4aGjX3AG5xcxeL7a', '52XVOeXMXYuaElyw', '5BEzPgPKe8taG9OB',\n",
       "       '5o9BvRGEGvhaeBwA', '5pa4DVyvN2fXpepb', '73bEEYMKLwtmVwV43',\n",
       "       '7NEaXjeLX3sg3yDB', '8e5qRjN7dGuovkRY', '9EWlVBQo9rtqRYdy',\n",
       "       '9Gmnwa5W9PIwaoKq', '9mYN2zmq7aTw4Blo', 'anvKyBjB5OiP5dYZ',\n",
       "       'AvR9dePW88IynbaE', 'AY5e3mMgZkIyG3Ox', 'BvyakyrDmQfWEABb',\n",
       "       'd2waAp3pEjiWgrDEY', 'd3erpmyk9yFlVyrZ', 'DMApMRmGq5hjkyvX',\n",
       "       'DWmlpyg93YCXAXgE', 'EExgNZ9dvgTE3928', 'eL2w4ZBD7liA85wm',\n",
       "       'eLQ3mNg27GHLkDej', 'g2dnA9Wpvzi2WAmZ', 'G3QxQd7qGRuXAZda',\n",
       "       'gNYvkbx3gof2Y3V9', 'gvKeNY2D3Rs2jRdL', 'Gym5dABePPHA8mZK9',\n",
       "       'jgxq52DoPpsR9ZRx', 'KLa5k73rZvSlv82X', 'kNnmb7MdArswxLYw',\n",
       "       'KqDyvgWm4Wh8ZDM7', 'kxgXN97ALmHbaezp', 'ldrknAmwYPcWzp4N',\n",
       "       'LR5vdbQgp3tlMBzB', 'M4ybygBlWqImBn9oZ', 'mor8vDGkaOHzLLWBp',\n",
       "       'mzgVQ4Z5WvHqgNmY', 'n5XllaB4gZFwZXkBz', 'neaPN7GbBEUex8rV',\n",
       "       'nO2pPlZzv3IvOQoP2', 'NWAAAQQZDXC5b9Mk', 'ObdQbr9wyDfbmW4E',\n",
       "       'OepoQ9jWQztn5ZqL', 'oNOZxyvRe3Ikx3La', 'oRrwPDNPlAieQr8Q',\n",
       "       'oXjpaOq4wVUezb3x', 'ppzZqYxGkESMdA5Az', 'qNY4Qwveojc8jlm4',\n",
       "       'R3mexpM2YAtdPbL7', 'R3mXwwoaX9IoRVKe', 'RjDBre8jzzhdr4YL',\n",
       "       'ro5AaKwypZIqNEp2', 'roOVZm7kYzS5d4q3', 'Rq9EA8dEeZcEwada2',\n",
       "       'rwqzgZjbPaf5dmbL', 'W4XOzzNEbrtZz4dW', 'W7LeKXje7QhZlLKe',\n",
       "       'wa3mwLV3ldIqnGnV', 'WYmlNV2rDkSaALOE', 'X4vEl3glp9urv4GN',\n",
       "       'xEYa2wgAQof3wyEO', 'xPZw23VxroC3N34k', 'xRQE5VD7rRHVdyvM',\n",
       "       'xwpvGaaWl5c3G5N3', 'xwzgmmv5ZOiVaxXz', 'Xygv5loxdZtrywr9',\n",
       "       'YbmvamEWQ8faDPx2', 'ywE435j4gVizvw3R', 'Z7BXPnplxGUjZdmBZ',\n",
       "       'zaEBPeMY4NUbDnZy', 'Ze7YenyZvxiB4MYZ', 'ZebMRl5Z7dhrPKRD',\n",
       "       'zwKdl7Z2VRudGj2L', 'zZezMeg5XvcbRdg3', '7NqqnAOPVVSKnxyv',\n",
       "       '8B9N9jOOXGUordVG', '9MX3AgZzVgCw4W4j', 'D4jGxZ7KamfVo4E2V',\n",
       "       'DWNjK4kYDACjeEg3', 'eBQAWmMg4gsLYLLa', 'mj4BWeRbp7ildyB9d',\n",
       "       'NgXwdx5KkZI5GRWa', 'Pz327QrLaGuxW8Do', 'vnljypgejkINbBAY'],\n",
       "      dtype=object)"
      ]
     },
     "execution_count": 92,
     "metadata": {},
     "output_type": "execute_result"
    }
   ],
   "source": [
    "df['speakerId'].unique()"
   ]
  }
 ],
 "metadata": {
  "kernelspec": {
   "display_name": "venv",
   "language": "python",
   "name": "python3"
  },
  "language_info": {
   "codemirror_mode": {
    "name": "ipython",
    "version": 3
   },
   "file_extension": ".py",
   "mimetype": "text/x-python",
   "name": "python",
   "nbconvert_exporter": "python",
   "pygments_lexer": "ipython3",
   "version": "3.10.9"
  },
  "orig_nbformat": 4,
  "vscode": {
   "interpreter": {
    "hash": "ccc2ef6718a2989112780daffa238f2a5d7e50ea457a5804450be0e592151e16"
   }
  }
 },
 "nbformat": 4,
 "nbformat_minor": 2
}
