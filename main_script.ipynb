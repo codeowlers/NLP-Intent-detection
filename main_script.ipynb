{
 "cells": [
  {
   "cell_type": "markdown",
   "metadata": {},
   "source": [
    "### Importing Libraries"
   ]
  },
  {
   "cell_type": "code",
   "execution_count": 1,
   "metadata": {},
   "outputs": [],
   "source": [
    "import pandas as pd\n",
    "import numpy as np\n",
    "from pathlib import Path\n",
    "import librosa\n",
    "from sklearn.ensemble import RandomForestClassifier\n",
    "from sklearn.model_selection import cross_val_score\n",
    "from sklearn.utils import shuffle\n",
    "from algorithms import encode_columns, svm_model, accuracy_calculator, random_forest_model\n",
    "from sklearn.model_selection import train_test_split\n",
    "from sklearn.svm import SVC\n",
    "from sklearn.ensemble import RandomForestClassifier"
   ]
  },
  {
   "cell_type": "markdown",
   "metadata": {},
   "source": [
    "### Loading the dataset using Pandas\n",
    "The data is found in development.csv (development set): a comma-separated values file containing the records from the development set. This portion does have the action and object columns, which you should use to obtain the labels to train and validate your models.\n",
    "The dataset consists in a collection of audio file in a WAV format. \n",
    "\n",
    "Each record is characterized by several attributes. The following is a short description for each of them.\n",
    "- path: the path of the audio file.\n",
    "- speakerId: the id of the speaker.\n",
    "- action: the type of action required through the intent.\n",
    "- object: the device involved by intent.\n",
    "- Self-reported fluency level: the speaking fluency of the speaker.\n",
    "- First Language spoken: the first language spoken by the speaker.\n",
    "- Current language used for work/school: the main language spoken by the speaker during daily activities.\n",
    "- gender: the gender of the speaker.\n",
    "- ageRange: the age range of the speaker."
   ]
  },
  {
   "cell_type": "code",
   "execution_count": 2,
   "metadata": {},
   "outputs": [],
   "source": [
    "df = pd.read_csv(\"dsl_data/development.csv\")"
   ]
  },
  {
   "cell_type": "code",
   "execution_count": 3,
   "metadata": {},
   "outputs": [
    {
     "data": {
      "text/plain": [
       "array(['change languagenone', 'activatemusic', 'deactivatelights', ...,\n",
       "       'deactivatelights', 'deactivatelights', 'increasevolume'],\n",
       "      dtype=object)"
      ]
     },
     "execution_count": 3,
     "metadata": {},
     "output_type": "execute_result"
    }
   ],
   "source": [
    "y = df.values[:,3:5].sum(axis=1)\n",
    "y"
   ]
  },
  {
   "cell_type": "code",
   "execution_count": 4,
   "metadata": {},
   "outputs": [],
   "source": [
    "column_names = [\"Self-reported fluency level \",\"First Language spoken\", \"Current language used for work/school\", \"speakerId\", \"gender\",\"ageRange\"]\n",
    "encode_columns(df,column_names)"
   ]
  },
  {
   "cell_type": "code",
   "execution_count": 5,
   "metadata": {},
   "outputs": [],
   "source": [
    "path = Path('./out.csv')\n",
    "\n",
    "if path.is_file():\n",
    "    df = pd.read_csv(\"out.csv\")\n",
    "else:\n",
    "    df[\"mfccs\"] = df.apply(lambda row: librosa.feature.mfcc(y=librosa.load(row[\"path\"])[0], sr=librosa.load(row[\"path\"])[1]), axis=1)\n",
    "    df[\"mfccs_mean\"] = df[\"mfccs\"].apply(lambda x: np.mean(x))\n",
    "    df.to_csv('out.csv')"
   ]
  },
  {
   "cell_type": "code",
   "execution_count": 6,
   "metadata": {},
   "outputs": [
    {
     "data": {
      "text/html": [
       "<div>\n",
       "<style scoped>\n",
       "    .dataframe tbody tr th:only-of-type {\n",
       "        vertical-align: middle;\n",
       "    }\n",
       "\n",
       "    .dataframe tbody tr th {\n",
       "        vertical-align: top;\n",
       "    }\n",
       "\n",
       "    .dataframe thead th {\n",
       "        text-align: right;\n",
       "    }\n",
       "</style>\n",
       "<table border=\"1\" class=\"dataframe\">\n",
       "  <thead>\n",
       "    <tr style=\"text-align: right;\">\n",
       "      <th></th>\n",
       "      <th>speakerId</th>\n",
       "      <th>Self-reported fluency level</th>\n",
       "      <th>First Language spoken</th>\n",
       "      <th>Current language used for work/school</th>\n",
       "      <th>gender</th>\n",
       "      <th>ageRange</th>\n",
       "      <th>mfccs_mean</th>\n",
       "    </tr>\n",
       "  </thead>\n",
       "  <tbody>\n",
       "    <tr>\n",
       "      <th>0</th>\n",
       "      <td>0</td>\n",
       "      <td>0</td>\n",
       "      <td>1</td>\n",
       "      <td>2</td>\n",
       "      <td>0</td>\n",
       "      <td>0</td>\n",
       "      <td>-26.103281</td>\n",
       "    </tr>\n",
       "    <tr>\n",
       "      <th>1</th>\n",
       "      <td>0</td>\n",
       "      <td>0</td>\n",
       "      <td>1</td>\n",
       "      <td>2</td>\n",
       "      <td>0</td>\n",
       "      <td>0</td>\n",
       "      <td>-27.985989</td>\n",
       "    </tr>\n",
       "    <tr>\n",
       "      <th>2</th>\n",
       "      <td>0</td>\n",
       "      <td>0</td>\n",
       "      <td>1</td>\n",
       "      <td>2</td>\n",
       "      <td>0</td>\n",
       "      <td>0</td>\n",
       "      <td>-27.983374</td>\n",
       "    </tr>\n",
       "    <tr>\n",
       "      <th>3</th>\n",
       "      <td>0</td>\n",
       "      <td>0</td>\n",
       "      <td>1</td>\n",
       "      <td>2</td>\n",
       "      <td>0</td>\n",
       "      <td>0</td>\n",
       "      <td>-26.391945</td>\n",
       "    </tr>\n",
       "    <tr>\n",
       "      <th>4</th>\n",
       "      <td>0</td>\n",
       "      <td>0</td>\n",
       "      <td>1</td>\n",
       "      <td>2</td>\n",
       "      <td>0</td>\n",
       "      <td>0</td>\n",
       "      <td>-28.545034</td>\n",
       "    </tr>\n",
       "    <tr>\n",
       "      <th>...</th>\n",
       "      <td>...</td>\n",
       "      <td>...</td>\n",
       "      <td>...</td>\n",
       "      <td>...</td>\n",
       "      <td>...</td>\n",
       "      <td>...</td>\n",
       "      <td>...</td>\n",
       "    </tr>\n",
       "    <tr>\n",
       "      <th>9849</th>\n",
       "      <td>76</td>\n",
       "      <td>3</td>\n",
       "      <td>1</td>\n",
       "      <td>2</td>\n",
       "      <td>1</td>\n",
       "      <td>0</td>\n",
       "      <td>-16.623365</td>\n",
       "    </tr>\n",
       "    <tr>\n",
       "      <th>9850</th>\n",
       "      <td>76</td>\n",
       "      <td>3</td>\n",
       "      <td>1</td>\n",
       "      <td>2</td>\n",
       "      <td>1</td>\n",
       "      <td>0</td>\n",
       "      <td>-18.091902</td>\n",
       "    </tr>\n",
       "    <tr>\n",
       "      <th>9851</th>\n",
       "      <td>76</td>\n",
       "      <td>3</td>\n",
       "      <td>1</td>\n",
       "      <td>2</td>\n",
       "      <td>1</td>\n",
       "      <td>0</td>\n",
       "      <td>-16.031946</td>\n",
       "    </tr>\n",
       "    <tr>\n",
       "      <th>9852</th>\n",
       "      <td>76</td>\n",
       "      <td>3</td>\n",
       "      <td>1</td>\n",
       "      <td>2</td>\n",
       "      <td>1</td>\n",
       "      <td>0</td>\n",
       "      <td>-18.633825</td>\n",
       "    </tr>\n",
       "    <tr>\n",
       "      <th>9853</th>\n",
       "      <td>76</td>\n",
       "      <td>3</td>\n",
       "      <td>1</td>\n",
       "      <td>2</td>\n",
       "      <td>1</td>\n",
       "      <td>0</td>\n",
       "      <td>-18.663048</td>\n",
       "    </tr>\n",
       "  </tbody>\n",
       "</table>\n",
       "<p>9854 rows × 7 columns</p>\n",
       "</div>"
      ],
      "text/plain": [
       "      speakerId  Self-reported fluency level   First Language spoken  \\\n",
       "0             0                             0                      1   \n",
       "1             0                             0                      1   \n",
       "2             0                             0                      1   \n",
       "3             0                             0                      1   \n",
       "4             0                             0                      1   \n",
       "...         ...                           ...                    ...   \n",
       "9849         76                             3                      1   \n",
       "9850         76                             3                      1   \n",
       "9851         76                             3                      1   \n",
       "9852         76                             3                      1   \n",
       "9853         76                             3                      1   \n",
       "\n",
       "      Current language used for work/school  gender  ageRange  mfccs_mean  \n",
       "0                                         2       0         0  -26.103281  \n",
       "1                                         2       0         0  -27.985989  \n",
       "2                                         2       0         0  -27.983374  \n",
       "3                                         2       0         0  -26.391945  \n",
       "4                                         2       0         0  -28.545034  \n",
       "...                                     ...     ...       ...         ...  \n",
       "9849                                      2       1         0  -16.623365  \n",
       "9850                                      2       1         0  -18.091902  \n",
       "9851                                      2       1         0  -16.031946  \n",
       "9852                                      2       1         0  -18.633825  \n",
       "9853                                      2       1         0  -18.663048  \n",
       "\n",
       "[9854 rows x 7 columns]"
      ]
     },
     "execution_count": 6,
     "metadata": {},
     "output_type": "execute_result"
    }
   ],
   "source": [
    "X = df[[\"speakerId\",\"Self-reported fluency level \",\"First Language spoken\",\"Current language used for work/school\",\"gender\",\"ageRange\", \"mfccs_mean\"]]\n",
    "X"
   ]
  },
  {
   "cell_type": "code",
   "execution_count": 7,
   "metadata": {},
   "outputs": [],
   "source": [
    "X_train, X_test, y_train, y_test = train_test_split(X, y, test_size=0.2, random_state=42)"
   ]
  },
  {
   "cell_type": "code",
   "execution_count": 8,
   "metadata": {},
   "outputs": [],
   "source": [
    "y_pred = svm_model(X_train, y_train, X_test)\n",
    "svm_accuracy = accuracy_calculator(y_test, y_pred)"
   ]
  },
  {
   "cell_type": "code",
   "execution_count": 11,
   "metadata": {},
   "outputs": [
    {
     "data": {
      "text/plain": [
       "0.2085235920852359"
      ]
     },
     "execution_count": 11,
     "metadata": {},
     "output_type": "execute_result"
    }
   ],
   "source": [
    "y_pred = random_forest_model(X_train, X_test, y_train)\n",
    "random_forest_accuracy = accuracy_calculator(y_test, y_pred)\n",
    "random_forest_accuracy"
   ]
  },
  {
   "cell_type": "code",
   "execution_count": null,
   "metadata": {},
   "outputs": [],
   "source": [
    "## Implementation using k-fold\n",
    "from sklearn.model_selection import KFold, cross_val_score\n",
    "# define the number of folds and whether to shuffle the data\n",
    "kf = KFold(n_splits=3, shuffle=True, random_state=42)\n",
    "\n",
    "# create an instance of the SVM model\n",
    "clf = SVC()\n",
    "\n",
    "# use cross_val_score function to perform k-fold cross-validation\n",
    "scores = cross_val_score(clf, X, y, cv=kf, scoring='accuracy')\n",
    "\n",
    "# print the mean accuracy and standard deviation\n",
    "print(\"Accuracy: %0.2f (+/- %0.2f)\" % (scores.mean(), scores.std()))"
   ]
  },
  {
   "cell_type": "code",
   "execution_count": null,
   "metadata": {},
   "outputs": [
    {
     "name": "stdout",
     "output_type": "stream",
     "text": [
      "Accuracy: 0.2007317782980115\n"
     ]
    }
   ],
   "source": [
    "clf = RandomForestClassifier(n_estimators=100, random_state=0)\n",
    "\n",
    "# shuffle the data before performing k-fold cross validation\n",
    "X, y = shuffle(X, y)\n",
    "\n",
    "# perform k-fold cross validation with 5 folds\n",
    "scores = cross_val_score(clf, X, y, cv=5)\n",
    "\n",
    "# calculate the mean accuracy of the model across all folds\n",
    "accuracy = np.mean(scores)\n",
    "print(\"Accuracy:\", accuracy)\n"
   ]
  }
 ],
 "metadata": {
  "kernelspec": {
   "display_name": "venv",
   "language": "python",
   "name": "python3"
  },
  "language_info": {
   "codemirror_mode": {
    "name": "ipython",
    "version": 3
   },
   "file_extension": ".py",
   "mimetype": "text/x-python",
   "name": "python",
   "nbconvert_exporter": "python",
   "pygments_lexer": "ipython3",
   "version": "3.10.9"
  },
  "vscode": {
   "interpreter": {
    "hash": "ccc2ef6718a2989112780daffa238f2a5d7e50ea457a5804450be0e592151e16"
   }
  }
 },
 "nbformat": 4,
 "nbformat_minor": 4
}
