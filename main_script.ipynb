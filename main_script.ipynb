{
 "cells": [
  {
   "attachments": {},
   "cell_type": "markdown",
   "metadata": {},
   "source": [
    "### Importing Libraries"
   ]
  },
  {
   "cell_type": "code",
   "execution_count": 43,
   "metadata": {},
   "outputs": [],
   "source": [
    "import pandas as pd\n",
    "import numpy as np\n",
    "# Importing LabelEncoder from Sklearn\n",
    "# library from preprocessing Module.\n",
    "from sklearn.preprocessing import LabelEncoder\n",
    "import librosa"
   ]
  },
  {
   "attachments": {},
   "cell_type": "markdown",
   "metadata": {},
   "source": [
    "### Loading the dataset using Pandas\n",
    "The data is found in development.csv (development set): a comma-separated values file containing the records from the development set. This portion does have the action and object columns, which you should use to obtain the labels to train and validate your models.\n",
    "The dataset consists in a collection of audio file in a WAV format. \n",
    "\n",
    "Each record is characterized by several attributes. The following is a short description for each of them.\n",
    "- path: the path of the audio file.\n",
    "- speakerId: the id of the speaker.\n",
    "- action: the type of action required through the intent.\n",
    "- object: the device involved by intent.\n",
    "- Self-reported fluency level: the speaking fluency of the speaker.\n",
    "- First Language spoken: the first language spoken by the speaker.\n",
    "- Current language used for work/school: the main language spoken by the speaker during daily activities.\n",
    "- gender: the gender of the speaker.\n",
    "- ageRange: the age range of the speaker."
   ]
  },
  {
   "cell_type": "code",
   "execution_count": 33,
   "metadata": {},
   "outputs": [],
   "source": [
    "df = pd.read_csv(\"dsl_data/development.csv\")"
   ]
  },
  {
   "cell_type": "code",
   "execution_count": 34,
   "metadata": {},
   "outputs": [
    {
     "data": {
      "text/plain": [
       "array(['change language', 'activate', 'deactivate', 'increase',\n",
       "       'decrease'], dtype=object)"
      ]
     },
     "execution_count": 34,
     "metadata": {},
     "output_type": "execute_result"
    }
   ],
   "source": [
    "df['action'].unique()"
   ]
  },
  {
   "cell_type": "code",
   "execution_count": 35,
   "metadata": {},
   "outputs": [
    {
     "data": {
      "text/plain": [
       "array(['change languagenone', 'activatemusic', 'deactivatelights', ...,\n",
       "       'deactivatelights', 'deactivatelights', 'increasevolume'],\n",
       "      dtype=object)"
      ]
     },
     "execution_count": 35,
     "metadata": {},
     "output_type": "execute_result"
    }
   ],
   "source": [
    "y = df.values[:,3:5].sum(axis=1)\n",
    "y"
   ]
  },
  {
   "cell_type": "code",
   "execution_count": 36,
   "metadata": {},
   "outputs": [],
   "source": [
    "def label_encoder(column_name):\n",
    "    le = LabelEncoder()\n",
    " \n",
    "    # Using .fit_transform function to fit label\n",
    "    # encoder and return encoded label\n",
    "    label = le.fit_transform(df[column_name])\n",
    "    # removing the column 'Purchased' from df\n",
    "    # as it is of no use now.\n",
    "    df.drop(column_name, axis=1, inplace=True)\n",
    "    \n",
    "    # Appending the array to our dataFrame\n",
    "    # with column name 'Purchased'\n",
    "    df[column_name] = label\n",
    "    "
   ]
  },
  {
   "cell_type": "code",
   "execution_count": 37,
   "metadata": {},
   "outputs": [],
   "source": [
    "from collections import Counter\n",
    "label_encoder(\"Self-reported fluency level \")\n",
    "label_encoder(\"First Language spoken\")\n",
    "label_encoder(\"Current language used for work/school\")\n",
    "label_encoder(\"speakerId\")\n",
    "label_encoder(\"gender\")\n",
    "label_encoder(\"ageRange\")"
   ]
  },
  {
   "cell_type": "code",
   "execution_count": 38,
   "metadata": {},
   "outputs": [],
   "source": [
    "df.drop(columns=[\"action\", \"object\"], axis=1, inplace=True)"
   ]
  },
  {
   "cell_type": "code",
   "execution_count": 39,
   "metadata": {},
   "outputs": [],
   "source": [
    "df[\"mfccs\"] = df.apply(lambda row: librosa.feature.mfcc(y=librosa.load(row[\"path\"])[0], sr=librosa.load(row[\"path\"])[1]), axis=1)"
   ]
  },
  {
   "cell_type": "code",
   "execution_count": 50,
   "metadata": {},
   "outputs": [],
   "source": [
    "\n",
    "# Flatten the 2D MFCCs into a 1-dimensional array\n",
    "mfccs = df[\"mfccs\"].values\n",
    "flattened_mfccs = [elem.flatten() for elem in mfccs]\n",
    "\n",
    "# Normalize the values so that they are all within a specific range\n",
    "normalized_mfccs = [(elem - np.min(elem)) / (np.max(elem) - np.min(elem)) for elem in flattened_mfccs]\n",
    "\n",
    "# Add the normalized MFCCs to the dataframe as a new column\n",
    "df[\"normalized_mfccs\"] = normalized_mfccs"
   ]
  },
  {
   "cell_type": "code",
   "execution_count": 54,
   "metadata": {},
   "outputs": [
    {
     "data": {
      "text/plain": [
       "0       [0.007520065, 0.033770956, 0.019489864, 0.0051...\n",
       "1       [0.0, 0.0036412734, 0.027942263, 0.06786933, 0...\n",
       "2       [0.0, 0.020646865, 0.016027262, 0.026616339, 0...\n",
       "3       [0.0, 0.0, 0.0040836576, 0.009220844, 0.004798...\n",
       "4       [0.023517348, 0.02781044, 0.019429127, 0.02861...\n",
       "                              ...                        \n",
       "9849    [0.18867134, 0.16981147, 0.07505758, 0.0469596...\n",
       "9850    [0.20160349, 0.18449712, 0.08112351, 0.0523808...\n",
       "9851    [0.1389897, 0.14935379, 0.077551, 0.048554912,...\n",
       "9852    [0.21293646, 0.19557634, 0.07309175, 0.0251101...\n",
       "9853    [0.19629487, 0.18029657, 0.064385556, 0.027703...\n",
       "Name: normalized_mfccs, Length: 9854, dtype: object"
      ]
     },
     "execution_count": 54,
     "metadata": {},
     "output_type": "execute_result"
    }
   ],
   "source": [
    "df['normalized_mfccs']"
   ]
  },
  {
   "cell_type": "code",
   "execution_count": 55,
   "metadata": {},
   "outputs": [],
   "source": [
    "df.drop(columns=[\"mfccs\", \"path\"], axis=1, inplace=True)"
   ]
  },
  {
   "cell_type": "code",
   "execution_count": 58,
   "metadata": {},
   "outputs": [
    {
     "data": {
      "text/html": [
       "<div>\n",
       "<style scoped>\n",
       "    .dataframe tbody tr th:only-of-type {\n",
       "        vertical-align: middle;\n",
       "    }\n",
       "\n",
       "    .dataframe tbody tr th {\n",
       "        vertical-align: top;\n",
       "    }\n",
       "\n",
       "    .dataframe thead th {\n",
       "        text-align: right;\n",
       "    }\n",
       "</style>\n",
       "<table border=\"1\" class=\"dataframe\">\n",
       "  <thead>\n",
       "    <tr style=\"text-align: right;\">\n",
       "      <th></th>\n",
       "      <th>Id</th>\n",
       "      <th>Self-reported fluency level</th>\n",
       "      <th>First Language spoken</th>\n",
       "      <th>Current language used for work/school</th>\n",
       "      <th>gender</th>\n",
       "      <th>ageRange</th>\n",
       "      <th>normalized_mfccs</th>\n",
       "      <th>speakerId</th>\n",
       "    </tr>\n",
       "  </thead>\n",
       "  <tbody>\n",
       "    <tr>\n",
       "      <th>0</th>\n",
       "      <td>0</td>\n",
       "      <td>0</td>\n",
       "      <td>1</td>\n",
       "      <td>2</td>\n",
       "      <td>0</td>\n",
       "      <td>0</td>\n",
       "      <td>[0.007520065, 0.033770956, 0.019489864, 0.0051...</td>\n",
       "      <td>0</td>\n",
       "    </tr>\n",
       "    <tr>\n",
       "      <th>1</th>\n",
       "      <td>1</td>\n",
       "      <td>0</td>\n",
       "      <td>1</td>\n",
       "      <td>2</td>\n",
       "      <td>0</td>\n",
       "      <td>0</td>\n",
       "      <td>[0.0, 0.0036412734, 0.027942263, 0.06786933, 0...</td>\n",
       "      <td>0</td>\n",
       "    </tr>\n",
       "    <tr>\n",
       "      <th>2</th>\n",
       "      <td>2</td>\n",
       "      <td>0</td>\n",
       "      <td>1</td>\n",
       "      <td>2</td>\n",
       "      <td>0</td>\n",
       "      <td>0</td>\n",
       "      <td>[0.0, 0.020646865, 0.016027262, 0.026616339, 0...</td>\n",
       "      <td>0</td>\n",
       "    </tr>\n",
       "    <tr>\n",
       "      <th>3</th>\n",
       "      <td>3</td>\n",
       "      <td>0</td>\n",
       "      <td>1</td>\n",
       "      <td>2</td>\n",
       "      <td>0</td>\n",
       "      <td>0</td>\n",
       "      <td>[0.0, 0.0, 0.0040836576, 0.009220844, 0.004798...</td>\n",
       "      <td>0</td>\n",
       "    </tr>\n",
       "    <tr>\n",
       "      <th>4</th>\n",
       "      <td>4</td>\n",
       "      <td>0</td>\n",
       "      <td>1</td>\n",
       "      <td>2</td>\n",
       "      <td>0</td>\n",
       "      <td>0</td>\n",
       "      <td>[0.023517348, 0.02781044, 0.019429127, 0.02861...</td>\n",
       "      <td>0</td>\n",
       "    </tr>\n",
       "    <tr>\n",
       "      <th>...</th>\n",
       "      <td>...</td>\n",
       "      <td>...</td>\n",
       "      <td>...</td>\n",
       "      <td>...</td>\n",
       "      <td>...</td>\n",
       "      <td>...</td>\n",
       "      <td>...</td>\n",
       "      <td>...</td>\n",
       "    </tr>\n",
       "    <tr>\n",
       "      <th>9849</th>\n",
       "      <td>9849</td>\n",
       "      <td>3</td>\n",
       "      <td>1</td>\n",
       "      <td>2</td>\n",
       "      <td>1</td>\n",
       "      <td>0</td>\n",
       "      <td>[0.18867134, 0.16981147, 0.07505758, 0.0469596...</td>\n",
       "      <td>76</td>\n",
       "    </tr>\n",
       "    <tr>\n",
       "      <th>9850</th>\n",
       "      <td>9850</td>\n",
       "      <td>3</td>\n",
       "      <td>1</td>\n",
       "      <td>2</td>\n",
       "      <td>1</td>\n",
       "      <td>0</td>\n",
       "      <td>[0.20160349, 0.18449712, 0.08112351, 0.0523808...</td>\n",
       "      <td>76</td>\n",
       "    </tr>\n",
       "    <tr>\n",
       "      <th>9851</th>\n",
       "      <td>9851</td>\n",
       "      <td>3</td>\n",
       "      <td>1</td>\n",
       "      <td>2</td>\n",
       "      <td>1</td>\n",
       "      <td>0</td>\n",
       "      <td>[0.1389897, 0.14935379, 0.077551, 0.048554912,...</td>\n",
       "      <td>76</td>\n",
       "    </tr>\n",
       "    <tr>\n",
       "      <th>9852</th>\n",
       "      <td>9852</td>\n",
       "      <td>3</td>\n",
       "      <td>1</td>\n",
       "      <td>2</td>\n",
       "      <td>1</td>\n",
       "      <td>0</td>\n",
       "      <td>[0.21293646, 0.19557634, 0.07309175, 0.0251101...</td>\n",
       "      <td>76</td>\n",
       "    </tr>\n",
       "    <tr>\n",
       "      <th>9853</th>\n",
       "      <td>9853</td>\n",
       "      <td>3</td>\n",
       "      <td>1</td>\n",
       "      <td>2</td>\n",
       "      <td>1</td>\n",
       "      <td>0</td>\n",
       "      <td>[0.19629487, 0.18029657, 0.064385556, 0.027703...</td>\n",
       "      <td>76</td>\n",
       "    </tr>\n",
       "  </tbody>\n",
       "</table>\n",
       "<p>9854 rows × 8 columns</p>\n",
       "</div>"
      ],
      "text/plain": [
       "        Id  Self-reported fluency level   First Language spoken  \\\n",
       "0        0                             0                      1   \n",
       "1        1                             0                      1   \n",
       "2        2                             0                      1   \n",
       "3        3                             0                      1   \n",
       "4        4                             0                      1   \n",
       "...    ...                           ...                    ...   \n",
       "9849  9849                             3                      1   \n",
       "9850  9850                             3                      1   \n",
       "9851  9851                             3                      1   \n",
       "9852  9852                             3                      1   \n",
       "9853  9853                             3                      1   \n",
       "\n",
       "      Current language used for work/school  gender  ageRange  \\\n",
       "0                                         2       0         0   \n",
       "1                                         2       0         0   \n",
       "2                                         2       0         0   \n",
       "3                                         2       0         0   \n",
       "4                                         2       0         0   \n",
       "...                                     ...     ...       ...   \n",
       "9849                                      2       1         0   \n",
       "9850                                      2       1         0   \n",
       "9851                                      2       1         0   \n",
       "9852                                      2       1         0   \n",
       "9853                                      2       1         0   \n",
       "\n",
       "                                       normalized_mfccs  speakerId  \n",
       "0     [0.007520065, 0.033770956, 0.019489864, 0.0051...          0  \n",
       "1     [0.0, 0.0036412734, 0.027942263, 0.06786933, 0...          0  \n",
       "2     [0.0, 0.020646865, 0.016027262, 0.026616339, 0...          0  \n",
       "3     [0.0, 0.0, 0.0040836576, 0.009220844, 0.004798...          0  \n",
       "4     [0.023517348, 0.02781044, 0.019429127, 0.02861...          0  \n",
       "...                                                 ...        ...  \n",
       "9849  [0.18867134, 0.16981147, 0.07505758, 0.0469596...         76  \n",
       "9850  [0.20160349, 0.18449712, 0.08112351, 0.0523808...         76  \n",
       "9851  [0.1389897, 0.14935379, 0.077551, 0.048554912,...         76  \n",
       "9852  [0.21293646, 0.19557634, 0.07309175, 0.0251101...         76  \n",
       "9853  [0.19629487, 0.18029657, 0.064385556, 0.027703...         76  \n",
       "\n",
       "[9854 rows x 8 columns]"
      ]
     },
     "execution_count": 58,
     "metadata": {},
     "output_type": "execute_result"
    }
   ],
   "source": [
    "df"
   ]
  }
 ],
 "metadata": {
  "kernelspec": {
   "display_name": "venv",
   "language": "python",
   "name": "python3"
  },
  "language_info": {
   "codemirror_mode": {
    "name": "ipython",
    "version": 3
   },
   "file_extension": ".py",
   "mimetype": "text/x-python",
   "name": "python",
   "nbconvert_exporter": "python",
   "pygments_lexer": "ipython3",
   "version": "3.10.9"
  },
  "orig_nbformat": 4,
  "vscode": {
   "interpreter": {
    "hash": "ccc2ef6718a2989112780daffa238f2a5d7e50ea457a5804450be0e592151e16"
   }
  }
 },
 "nbformat": 4,
 "nbformat_minor": 2
}
