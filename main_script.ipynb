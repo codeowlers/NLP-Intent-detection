{
 "cells": [
  {
   "attachments": {},
   "cell_type": "markdown",
   "metadata": {},
   "source": [
    "### Importing Libraries"
   ]
  },
  {
   "cell_type": "code",
   "execution_count": 17,
   "metadata": {},
   "outputs": [],
   "source": [
    "import pandas as pd\n",
    "import numpy as np\n",
    "# Importing LabelEncoder from Sklearn\n",
    "# library from preprocessing Module.\n",
    "from sklearn.preprocessing import LabelEncoder"
   ]
  },
  {
   "attachments": {},
   "cell_type": "markdown",
   "metadata": {},
   "source": [
    "### Loading the dataset using Pandas\n",
    "The data is found in development.csv (development set): a comma-separated values file containing the records from the development set. This portion does have the action and object columns, which you should use to obtain the labels to train and validate your models.\n",
    "The dataset consists in a collection of audio file in a WAV format. \n",
    "\n",
    "Each record is characterized by several attributes. The following is a short description for each of them.\n",
    "- path: the path of the audio file.\n",
    "- speakerId: the id of the speaker.\n",
    "- action: the type of action required through the intent.\n",
    "- object: the device involved by intent.\n",
    "- Self-reported fluency level: the speaking fluency of the speaker.\n",
    "- First Language spoken: the first language spoken by the speaker.\n",
    "- Current language used for work/school: the main language spoken by the speaker during daily activities.\n",
    "- gender: the gender of the speaker.\n",
    "- ageRange: the age range of the speaker."
   ]
  },
  {
   "cell_type": "code",
   "execution_count": 18,
   "metadata": {},
   "outputs": [],
   "source": [
    "df = pd.read_csv(\"dsl_data/development.csv\")"
   ]
  },
  {
   "cell_type": "code",
   "execution_count": 19,
   "metadata": {},
   "outputs": [
    {
     "data": {
      "text/plain": [
       "array(['change language', 'activate', 'deactivate', 'increase',\n",
       "       'decrease'], dtype=object)"
      ]
     },
     "execution_count": 19,
     "metadata": {},
     "output_type": "execute_result"
    }
   ],
   "source": [
    "df['action'].unique()"
   ]
  },
  {
   "cell_type": "code",
   "execution_count": 20,
   "metadata": {},
   "outputs": [
    {
     "data": {
      "text/plain": [
       "array(['change languagenone', 'activatemusic', 'deactivatelights', ...,\n",
       "       'deactivatelights', 'deactivatelights', 'increasevolume'],\n",
       "      dtype=object)"
      ]
     },
     "execution_count": 20,
     "metadata": {},
     "output_type": "execute_result"
    }
   ],
   "source": [
    "y = df.values[:,3:5].sum(axis=1)\n",
    "y"
   ]
  },
  {
   "cell_type": "code",
   "execution_count": 21,
   "metadata": {},
   "outputs": [],
   "source": [
    "def label_encoder(column_name):\n",
    "    le = LabelEncoder()\n",
    " \n",
    "    # Using .fit_transform function to fit label\n",
    "    # encoder and return encoded label\n",
    "    label = le.fit_transform(df[column_name])\n",
    "    # removing the column 'Purchased' from df\n",
    "    # as it is of no use now.\n",
    "    df.drop(column_name, axis=1, inplace=True)\n",
    "    \n",
    "    # Appending the array to our dataFrame\n",
    "    # with column name 'Purchased'\n",
    "    df[column_name] = label\n",
    "    "
   ]
  },
  {
   "cell_type": "code",
   "execution_count": 22,
   "metadata": {},
   "outputs": [],
   "source": [
    "from collections import Counter\n",
    "label_encoder(\"Self-reported fluency level \")\n",
    "label_encoder(\"First Language spoken\")\n",
    "label_encoder(\"Current language used for work/school\")\n",
    "label_encoder(\"gender\")\n",
    "label_encoder(\"ageRange\")"
   ]
  },
  {
   "cell_type": "code",
   "execution_count": 23,
   "metadata": {},
   "outputs": [],
   "source": [
    "df.drop(columns=[\"action\", \"object\"], axis=1, inplace=True)"
   ]
  }
 ],
 "metadata": {
  "kernelspec": {
   "display_name": "venv",
   "language": "python",
   "name": "python3"
  },
  "language_info": {
   "codemirror_mode": {
    "name": "ipython",
    "version": 3
   },
   "file_extension": ".py",
   "mimetype": "text/x-python",
   "name": "python",
   "nbconvert_exporter": "python",
   "pygments_lexer": "ipython3",
   "version": "3.10.9"
  },
  "orig_nbformat": 4,
  "vscode": {
   "interpreter": {
    "hash": "ccc2ef6718a2989112780daffa238f2a5d7e50ea457a5804450be0e592151e16"
   }
  }
 },
 "nbformat": 4,
 "nbformat_minor": 2
}
