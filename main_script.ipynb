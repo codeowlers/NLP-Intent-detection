{
 "cells": [
  {
   "cell_type": "code",
   "execution_count": null,
   "metadata": {},
   "outputs": [],
   "source": [
    "from algorithms import *\n",
    "from keras.layers import Dense\n",
    "from keras.models import Sequential\n",
    "from sklearn.preprocessing import LabelEncoder, StandardScaler\n",
    "from sklearn.model_selection import train_test_split\n",
    "from sklearn.svm import SVC\n",
    "import numpy as np\n",
    "import os\n",
    "import pandas as pd\n",
    "import pickle\n",
    "import time\n",
    "from sklearn.metrics import make_scorer, accuracy_score\n",
    "from sklearn.model_selection import GridSearchCV\n",
    "from sklearn.feature_selection import RFE"
   ]
  },
  {
   "cell_type": "code",
   "execution_count": null,
   "metadata": {},
   "outputs": [],
   "source": [
    "#extract development and evaluation\n",
    "df = pd.read_csv(\"dsl_data/development.csv\")\n",
    "df_eval = pd.read_csv(\"dsl_data/evaluation.csv\")"
   ]
  },
  {
   "cell_type": "code",
   "execution_count": null,
   "metadata": {},
   "outputs": [],
   "source": [
    "cols_to_be_encoded = ['gender','ageRange']\n",
    "\n",
    "for i in cols_to_be_encoded:\n",
    "    label_encoder(df, i)\n",
    "    label_encoder(df_eval, i)"
   ]
  },
  {
   "cell_type": "code",
   "execution_count": null,
   "outputs": [],
   "source": [
    "balance_trainset_based_on_test(df,df_eval)"
   ],
   "metadata": {
    "collapsed": false
   }
  },
  {
   "cell_type": "code",
   "execution_count": null,
   "outputs": [],
   "source": [
    "cols = ['Id','Self-reported fluency level ', 'First Language spoken', 'Current language used for work/school']\n",
    "df.drop(columns=cols,inplace=True)\n",
    "df_eval.drop(columns=cols[:4],inplace=True)"
   ],
   "metadata": {
    "collapsed": false
   }
  },
  {
   "cell_type": "code",
   "execution_count": null,
   "metadata": {},
   "outputs": [],
   "source": [
    "if os.path.isfile(\"df.pkl\"):\n",
    "    with open('df.pkl', 'rb') as f:\n",
    "        df = pickle.load(f)\n",
    "    with open('df_eval.pkl', 'rb') as f:\n",
    "        df_eval = pickle.load(f)\n",
    "else:\n",
    "    df = extract_all_features(df)\n",
    "    df_eval = extract_all_features(df_eval)"
   ]
  },
  {
   "cell_type": "code",
   "execution_count": null,
   "metadata": {},
   "outputs": [],
   "source": [
    "target_class = df['action']+ df['object']\n",
    "encoder = LabelEncoder()\n",
    "y = encoder.fit_transform(target_class)"
   ]
  },
  {
   "cell_type": "code",
   "execution_count": null,
   "metadata": {},
   "outputs": [],
   "source": [
    "X = df.drop(columns=['path', 'speakerId','action','object'])"
   ]
  },
  {
   "cell_type": "code",
   "execution_count": null,
   "metadata": {},
   "outputs": [],
   "source": [
    "scaler = StandardScaler()\n",
    "X = scaler.fit_transform(np.array(X, dtype = float))"
   ]
  },
  {
   "cell_type": "code",
   "execution_count": null,
   "metadata": {},
   "outputs": [],
   "source": [
    "X_eval = df_eval.drop(columns=['path', 'speakerId' ])"
   ]
  },
  {
   "cell_type": "code",
   "execution_count": null,
   "metadata": {},
   "outputs": [],
   "source": [
    "X_eval = scaler.fit_transform(np.array(X_eval, dtype = float))"
   ]
  },
  {
   "cell_type": "code",
   "execution_count": null,
   "outputs": [],
   "source": [
    "X_train, X_test, y_train, y_test = train_test_split(X, y, test_size = .2,random_state = 42, shuffle = True)"
   ],
   "metadata": {
    "collapsed": false
   }
  },
  {
   "cell_type": "code",
   "execution_count": null,
   "outputs": [],
   "source": [
    "svm = SVC(kernel=\"linear\")\n",
    "\n",
    "# Initialize RFE\n",
    "rfe = RFE(svm)\n",
    "\n",
    "# Define the grid of values for the number of features to select and the accuracy required\n",
    "param_grid = {'n_features_to_select':[10,20,30],\n",
    "              'estimator__C':[0.1, 1, 10],\n",
    "              'estimator__kernel':['linear', 'rbf', 'poly'],\n",
    "              'estimator__gamma': [0.1, 1, 10]}\n",
    "\n",
    "# Define the scoring function\n",
    "acc_scorer = make_scorer(accuracy_score)\n",
    "\n",
    "# Initialize GridSearchCV\n",
    "grid_search = GridSearchCV(rfe, param_grid, scoring=acc_scorer)\n",
    "\n",
    "# Fit the grid_search to the data\n",
    "grid_search.fit(X, y)\n",
    "\n",
    "# Print the best parameters and the best score\n",
    "print(\"Best parameters: \", grid_search.best_params_)\n",
    "print(\"Best score: \", grid_search.best_score_)\n",
    "\n",
    "# Print the selected features\n",
    "print(grid_search.best_estimator_.support_)"
   ],
   "metadata": {
    "collapsed": false
   }
  },
  {
   "cell_type": "code",
   "execution_count": null,
   "outputs": [],
   "source": [
    "def svm_model(X_train, y_train, X_test):\n",
    "    clf = SVC(C = 10, gamma = 0.1, kernel = 'rbf')\n",
    "    # train the model on the training data\n",
    "    clf.fit(X_train, y_train)\n",
    "    # predict the target values for the test data\n",
    "    # returning the y_predict\n",
    "    return clf.predict(X_test)\n",
    "y_pred = svm_model(X_train, y_train, X_test)"
   ],
   "metadata": {
    "collapsed": false
   }
  },
  {
   "cell_type": "code",
   "execution_count": null,
   "outputs": [],
   "source": [
    "accuracy_calculator(y_test, y_pred)"
   ],
   "metadata": {
    "collapsed": false
   }
  },
  {
   "cell_type": "code",
   "execution_count": null,
   "metadata": {},
   "outputs": [],
   "source": [
    "model = Sequential()\n",
    "model.add(Dense(512, input_shape=(X.shape[1],), activation='relu'))\n",
    "model.add(Dense(256, activation='relu'))\n",
    "model.add(Dense(128, activation='relu'))\n",
    "model.add(Dense(64, activation='relu'))\n",
    "model.add(Dense(len(y), activation='softmax'))"
   ]
  },
  {
   "cell_type": "code",
   "execution_count": null,
   "metadata": {},
   "outputs": [],
   "source": [
    "model.compile(optimizer='adam',\n",
    "              loss='sparse_categorical_crossentropy',\n",
    "              metrics=['accuracy'])"
   ]
  },
  {
   "cell_type": "code",
   "execution_count": null,
   "metadata": {},
   "outputs": [],
   "source": [
    "history = model.fit(X,\n",
    "                    y,\n",
    "                    epochs=150,\n",
    "                    batch_size=500)"
   ]
  },
  {
   "cell_type": "code",
   "execution_count": null,
   "metadata": {},
   "outputs": [],
   "source": [
    "predictions = model.predict(X_eval)"
   ]
  },
  {
   "cell_type": "code",
   "execution_count": null,
   "metadata": {},
   "outputs": [],
   "source": [
    "y_pred_classes = predictions.argmax(axis=-1)\n",
    "\n",
    "# Convert the predicted class labels back to the original target classes\n",
    "y_pred_classes_decoded = encoder.inverse_transform(y_pred_classes)\n",
    "\n",
    "# Convert the decoded predictions to a pandas Series\n",
    "y_pred_classes_decoded = pd.Series(y_pred_classes_decoded, name='Predicted')\n"
   ]
  },
  {
   "cell_type": "code",
   "execution_count": null,
   "metadata": {},
   "outputs": [],
   "source": [
    "y_evaluation_df = pd.DataFrame(y_pred_classes_decoded, columns = ['Predicted'])\n",
    "y_evaluation_df.index.name = 'Id'\n",
    "\n",
    "from datetime import datetime\n",
    "now = int(time.time())\n",
    "readable_time = datetime.fromtimestamp(now).strftime('%H:%M:%S')\n",
    "y_evaluation_df.to_csv(f'evaluation/copy_predictions-{readable_time}.csv')"
   ]
  },
  {
   "cell_type": "code",
   "execution_count": null,
   "metadata": {},
   "outputs": [],
   "source": [
    "if not os.path.isfile(\"df.pkl\"):\n",
    "    with open('df.pkl', 'rb') as f:\n",
    "        pickle.dump(df, f)\n",
    "    with open('df_eval.pkl', 'rb') as f:\n",
    "        pickle.dump(df_eval, f)"
   ]
  }
 ],
 "metadata": {
  "kernelspec": {
   "display_name": "venv",
   "language": "python",
   "name": "python3"
  },
  "language_info": {
   "codemirror_mode": {
    "name": "ipython",
    "version": 3
   },
   "file_extension": ".py",
   "mimetype": "text/x-python",
   "name": "python",
   "nbconvert_exporter": "python",
   "pygments_lexer": "ipython3",
   "version": "3.10.9"
  },
  "orig_nbformat": 4,
  "vscode": {
   "interpreter": {
    "hash": "09ee11da7dc62f10eaf9df9c4559184832adcd88d836286cbf9804f9d006cf55"
   }
  }
 },
 "nbformat": 4,
 "nbformat_minor": 2
}
